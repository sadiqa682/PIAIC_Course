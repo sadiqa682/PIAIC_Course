{
  "nbformat": 4,
  "nbformat_minor": 0,
  "metadata": {
    "colab": {
      "name": "Assignment3CreditCardFraud.ipynb",
      "provenance": [],
      "collapsed_sections": [],
      "toc_visible": true,
      "authorship_tag": "ABX9TyMN+5YEnBsLtesdpUoiCNiK",
      "include_colab_link": true
    },
    "kernelspec": {
      "name": "python3",
      "display_name": "Python 3"
    },
    "language_info": {
      "name": "python"
    }
  },
  "cells": [
    {
      "cell_type": "markdown",
      "metadata": {
        "id": "view-in-github",
        "colab_type": "text"
      },
      "source": [
        "<a href=\"https://colab.research.google.com/github/sadiqa682/PIAIC_Course/blob/main/Assignment3CreditCardFraud.ipynb\" target=\"_parent\"><img src=\"https://colab.research.google.com/assets/colab-badge.svg\" alt=\"Open In Colab\"/></a>"
      ]
    },
    {
      "cell_type": "markdown",
      "metadata": {
        "id": "dC885Yl7jaa_"
      },
      "source": [
        "# Assignment 3 Credit Card Fraud"
      ]
    },
    {
      "cell_type": "code",
      "metadata": {
        "id": "rNv7S2YDjkdW"
      },
      "source": [
        "!pip install -q kaggle"
      ],
      "execution_count": 1,
      "outputs": []
    },
    {
      "cell_type": "code",
      "metadata": {
        "colab": {
          "resources": {
            "http://localhost:8080/nbextensions/google.colab/files.js": {
              "data": "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",
              "ok": true,
              "headers": [
                [
                  "content-type",
                  "application/javascript"
                ]
              ],
              "status": 200,
              "status_text": ""
            }
          },
          "base_uri": "https://localhost:8080/",
          "height": 90
        },
        "id": "l5FrXSRKj9Lr",
        "outputId": "59dca022-78d3-435c-f779-33c1c194b2fe"
      },
      "source": [
        "from google.colab import files\n",
        "files.upload()"
      ],
      "execution_count": 3,
      "outputs": [
        {
          "output_type": "display_data",
          "data": {
            "text/html": [
              "\n",
              "     <input type=\"file\" id=\"files-c01dc857-fd26-4f50-bbcf-e5f8e48bba18\" name=\"files[]\" multiple disabled\n",
              "        style=\"border:none\" />\n",
              "     <output id=\"result-c01dc857-fd26-4f50-bbcf-e5f8e48bba18\">\n",
              "      Upload widget is only available when the cell has been executed in the\n",
              "      current browser session. Please rerun this cell to enable.\n",
              "      </output>\n",
              "      <script src=\"/nbextensions/google.colab/files.js\"></script> "
            ],
            "text/plain": [
              "<IPython.core.display.HTML object>"
            ]
          },
          "metadata": {
            "tags": []
          }
        },
        {
          "output_type": "stream",
          "text": [
            "Saving kaggle.json to kaggle.json\n"
          ],
          "name": "stdout"
        },
        {
          "output_type": "execute_result",
          "data": {
            "text/plain": [
              "{'kaggle.json': b'{\"username\":\"lillylord\",\"key\":\"f2223d481309bf34a3bd19626dd59030\"}'}"
            ]
          },
          "metadata": {
            "tags": []
          },
          "execution_count": 3
        }
      ]
    },
    {
      "cell_type": "code",
      "metadata": {
        "id": "tSuZhjHYkzuH"
      },
      "source": [
        "!mkdir -p ~/.kaggle"
      ],
      "execution_count": 4,
      "outputs": []
    },
    {
      "cell_type": "code",
      "metadata": {
        "id": "wplxyPTMk1ys"
      },
      "source": [
        "! cp kaggle.json ~/.kaggle/"
      ],
      "execution_count": 5,
      "outputs": []
    },
    {
      "cell_type": "code",
      "metadata": {
        "id": "ZFRDg_4Hk9e0"
      },
      "source": [
        "!chmod 600 ~/.kaggle/kaggle.json"
      ],
      "execution_count": 6,
      "outputs": []
    },
    {
      "cell_type": "code",
      "metadata": {
        "colab": {
          "base_uri": "https://localhost:8080/"
        },
        "id": "siH9R0JylCpw",
        "outputId": "0510627a-0ddf-4a2c-c630-d53181b09e5b"
      },
      "source": [
        "! kaggle datasets list"
      ],
      "execution_count": 7,
      "outputs": [
        {
          "output_type": "stream",
          "text": [
            "Warning: Looks like you're using an outdated API Version, please consider updating (server 1.5.12 / client 1.5.4)\n",
            "ref                                                         title                                              size  lastUpdated          downloadCount  \n",
            "----------------------------------------------------------  ------------------------------------------------  -----  -------------------  -------------  \n",
            "gpreda/reddit-vaccine-myths                                 Reddit Vaccine Myths                              223KB  2021-04-09 08:39:14           2320  \n",
            "crowww/a-large-scale-fish-dataset                           A Large Scale Fish Dataset                          3GB  2021-02-17 16:10:44           1337  \n",
            "dhruvildave/wikibooks-dataset                               Wikibooks Dataset                                   1GB  2021-02-18 10:08:27           1028  \n",
            "imsparsh/musicnet-dataset                                   MusicNet Dataset                                   22GB  2021-02-18 14:12:19            480  \n",
            "promptcloud/careerbuilder-job-listing-2020                  Careerbuilder Job Listing 2020                     42MB  2021-03-05 06:59:52            218  \n",
            "mathurinache/twitter-edge-nodes                             Twitter Edge Nodes                                342MB  2021-03-08 06:43:04            119  \n",
            "alsgroup/end-als                                            End ALS Kaggle Challenge                           12GB  2021-04-08 12:16:37            355  \n",
            "simiotic/github-code-snippets                               GitHub Code Snippets                                7GB  2021-03-03 11:34:39             49  \n",
            "fatiimaezzahra/famous-iconic-women                          Famous Iconic Women                               838MB  2021-02-28 14:56:00            331  \n",
            "mathurinache/the-lj-speech-dataset                          The LJ Speech Dataset                               3GB  2021-02-15 09:19:54             81  \n",
            "nickuzmenkov/nih-chest-xrays-tfrecords                      NIH Chest X-rays TFRecords                         11GB  2021-03-09 04:49:23            216  \n",
            "nickuzmenkov/ranzcr-clip-kfold-tfrecords                    RANZCR CLiP KFold TFRecords                         2GB  2021-02-21 13:29:51             49  \n",
            "coloradokb/dandelionimages                                  DandelionImages                                     4GB  2021-02-19 20:03:47            143  \n",
            "stuartjames/lights                                          LightS: Light Specularity Dataset                  18GB  2021-02-18 14:32:26             28  \n",
            "landrykezebou/lvzhdr-tone-mapping-benchmark-dataset-tmonet  LVZ-HDR Tone Mapping Benchmark Dataset (TMO-Net)   24GB  2021-03-01 05:03:40             40  \n",
            "imsparsh/accentdb-core-extended                             AccentDB - Core & Extended                          6GB  2021-02-17 14:22:54             34  \n",
            "shivamb/netflix-shows                                       Netflix Movies and TV Shows                         1MB  2021-01-18 16:20:26         131659  \n",
            "jsphyg/weather-dataset-rattle-package                       Rain in Australia                                   4MB  2020-12-11 10:26:12          44127  \n",
            "arashnic/hr-analytics-job-change-of-data-scientists         HR Analytics: Job Change of Data Scientists       295KB  2020-12-07 00:25:10          19431  \n",
            "datasnaek/youtube-new                                       Trending YouTube Video Statistics                 201MB  2019-06-03 00:56:47         134319  \n"
          ],
          "name": "stdout"
        }
      ]
    },
    {
      "cell_type": "code",
      "metadata": {
        "colab": {
          "base_uri": "https://localhost:8080/"
        },
        "id": "W-3adVK6lKHc",
        "outputId": "6d0a941c-cbfd-45f7-9667-0b7ad6deb2d6"
      },
      "source": [
        "!kaggle datasets download -d mlg-ulb/creditcardfraud\n",
        "#kaggle datasets download -d mlg-ulb/creditcardfraud"
      ],
      "execution_count": 8,
      "outputs": [
        {
          "output_type": "stream",
          "text": [
            "Downloading creditcardfraud.zip to /content\n",
            " 76% 50.0M/66.0M [00:00<00:00, 51.7MB/s]\n",
            "100% 66.0M/66.0M [00:00<00:00, 113MB/s] \n"
          ],
          "name": "stdout"
        }
      ]
    },
    {
      "cell_type": "code",
      "metadata": {
        "id": "r2IhYsjomN7b"
      },
      "source": [
        "# Importing Modules\n",
        "import numpy as np\n",
        "import pandas as pd\n",
        "import matplotlib.pyplot as plt\n",
        "import seaborn as sns\n",
        "from scipy import stats\n",
        "import tensorflow as tf\n",
        "from tensorflow.keras.models import Sequential\n",
        "from tensorflow.keras.layers import Dense, Dropout\n",
        "from tensorflow.keras import regularizers\n",
        "import tensorboard\n",
        "from pylab import rcParams"
      ],
      "execution_count": 9,
      "outputs": []
    },
    {
      "cell_type": "code",
      "metadata": {
        "colab": {
          "base_uri": "https://localhost:8080/"
        },
        "id": "yXMIZH5smlD0",
        "outputId": "c215f464-38db-4343-bedf-5e6cde4f50c8"
      },
      "source": [
        "from zipfile import ZipFile\n",
        "file_name  = \"creditcardfraud.zip\"\n",
        "with ZipFile(file_name,'r') as zip:\n",
        "  zip.extractall()\n",
        "  print('Done')"
      ],
      "execution_count": 11,
      "outputs": [
        {
          "output_type": "stream",
          "text": [
            "Done\n"
          ],
          "name": "stdout"
        }
      ]
    },
    {
      "cell_type": "code",
      "metadata": {
        "colab": {
          "base_uri": "https://localhost:8080/",
          "height": 215
        },
        "id": "iMMDWFGlmVPZ",
        "outputId": "8fb32921-d449-4af8-93d7-0d000e5cad6f"
      },
      "source": [
        "# Loading The Data\n",
        "df = pd.read_csv(\"creditcard.csv\")\n",
        "df.head()"
      ],
      "execution_count": 12,
      "outputs": [
        {
          "output_type": "execute_result",
          "data": {
            "text/html": [
              "<div>\n",
              "<style scoped>\n",
              "    .dataframe tbody tr th:only-of-type {\n",
              "        vertical-align: middle;\n",
              "    }\n",
              "\n",
              "    .dataframe tbody tr th {\n",
              "        vertical-align: top;\n",
              "    }\n",
              "\n",
              "    .dataframe thead th {\n",
              "        text-align: right;\n",
              "    }\n",
              "</style>\n",
              "<table border=\"1\" class=\"dataframe\">\n",
              "  <thead>\n",
              "    <tr style=\"text-align: right;\">\n",
              "      <th></th>\n",
              "      <th>Time</th>\n",
              "      <th>V1</th>\n",
              "      <th>V2</th>\n",
              "      <th>V3</th>\n",
              "      <th>V4</th>\n",
              "      <th>V5</th>\n",
              "      <th>V6</th>\n",
              "      <th>V7</th>\n",
              "      <th>V8</th>\n",
              "      <th>V9</th>\n",
              "      <th>V10</th>\n",
              "      <th>V11</th>\n",
              "      <th>V12</th>\n",
              "      <th>V13</th>\n",
              "      <th>V14</th>\n",
              "      <th>V15</th>\n",
              "      <th>V16</th>\n",
              "      <th>V17</th>\n",
              "      <th>V18</th>\n",
              "      <th>V19</th>\n",
              "      <th>V20</th>\n",
              "      <th>V21</th>\n",
              "      <th>V22</th>\n",
              "      <th>V23</th>\n",
              "      <th>V24</th>\n",
              "      <th>V25</th>\n",
              "      <th>V26</th>\n",
              "      <th>V27</th>\n",
              "      <th>V28</th>\n",
              "      <th>Amount</th>\n",
              "      <th>Class</th>\n",
              "    </tr>\n",
              "  </thead>\n",
              "  <tbody>\n",
              "    <tr>\n",
              "      <th>0</th>\n",
              "      <td>0.0</td>\n",
              "      <td>-1.359807</td>\n",
              "      <td>-0.072781</td>\n",
              "      <td>2.536347</td>\n",
              "      <td>1.378155</td>\n",
              "      <td>-0.338321</td>\n",
              "      <td>0.462388</td>\n",
              "      <td>0.239599</td>\n",
              "      <td>0.098698</td>\n",
              "      <td>0.363787</td>\n",
              "      <td>0.090794</td>\n",
              "      <td>-0.551600</td>\n",
              "      <td>-0.617801</td>\n",
              "      <td>-0.991390</td>\n",
              "      <td>-0.311169</td>\n",
              "      <td>1.468177</td>\n",
              "      <td>-0.470401</td>\n",
              "      <td>0.207971</td>\n",
              "      <td>0.025791</td>\n",
              "      <td>0.403993</td>\n",
              "      <td>0.251412</td>\n",
              "      <td>-0.018307</td>\n",
              "      <td>0.277838</td>\n",
              "      <td>-0.110474</td>\n",
              "      <td>0.066928</td>\n",
              "      <td>0.128539</td>\n",
              "      <td>-0.189115</td>\n",
              "      <td>0.133558</td>\n",
              "      <td>-0.021053</td>\n",
              "      <td>149.62</td>\n",
              "      <td>0</td>\n",
              "    </tr>\n",
              "    <tr>\n",
              "      <th>1</th>\n",
              "      <td>0.0</td>\n",
              "      <td>1.191857</td>\n",
              "      <td>0.266151</td>\n",
              "      <td>0.166480</td>\n",
              "      <td>0.448154</td>\n",
              "      <td>0.060018</td>\n",
              "      <td>-0.082361</td>\n",
              "      <td>-0.078803</td>\n",
              "      <td>0.085102</td>\n",
              "      <td>-0.255425</td>\n",
              "      <td>-0.166974</td>\n",
              "      <td>1.612727</td>\n",
              "      <td>1.065235</td>\n",
              "      <td>0.489095</td>\n",
              "      <td>-0.143772</td>\n",
              "      <td>0.635558</td>\n",
              "      <td>0.463917</td>\n",
              "      <td>-0.114805</td>\n",
              "      <td>-0.183361</td>\n",
              "      <td>-0.145783</td>\n",
              "      <td>-0.069083</td>\n",
              "      <td>-0.225775</td>\n",
              "      <td>-0.638672</td>\n",
              "      <td>0.101288</td>\n",
              "      <td>-0.339846</td>\n",
              "      <td>0.167170</td>\n",
              "      <td>0.125895</td>\n",
              "      <td>-0.008983</td>\n",
              "      <td>0.014724</td>\n",
              "      <td>2.69</td>\n",
              "      <td>0</td>\n",
              "    </tr>\n",
              "    <tr>\n",
              "      <th>2</th>\n",
              "      <td>1.0</td>\n",
              "      <td>-1.358354</td>\n",
              "      <td>-1.340163</td>\n",
              "      <td>1.773209</td>\n",
              "      <td>0.379780</td>\n",
              "      <td>-0.503198</td>\n",
              "      <td>1.800499</td>\n",
              "      <td>0.791461</td>\n",
              "      <td>0.247676</td>\n",
              "      <td>-1.514654</td>\n",
              "      <td>0.207643</td>\n",
              "      <td>0.624501</td>\n",
              "      <td>0.066084</td>\n",
              "      <td>0.717293</td>\n",
              "      <td>-0.165946</td>\n",
              "      <td>2.345865</td>\n",
              "      <td>-2.890083</td>\n",
              "      <td>1.109969</td>\n",
              "      <td>-0.121359</td>\n",
              "      <td>-2.261857</td>\n",
              "      <td>0.524980</td>\n",
              "      <td>0.247998</td>\n",
              "      <td>0.771679</td>\n",
              "      <td>0.909412</td>\n",
              "      <td>-0.689281</td>\n",
              "      <td>-0.327642</td>\n",
              "      <td>-0.139097</td>\n",
              "      <td>-0.055353</td>\n",
              "      <td>-0.059752</td>\n",
              "      <td>378.66</td>\n",
              "      <td>0</td>\n",
              "    </tr>\n",
              "    <tr>\n",
              "      <th>3</th>\n",
              "      <td>1.0</td>\n",
              "      <td>-0.966272</td>\n",
              "      <td>-0.185226</td>\n",
              "      <td>1.792993</td>\n",
              "      <td>-0.863291</td>\n",
              "      <td>-0.010309</td>\n",
              "      <td>1.247203</td>\n",
              "      <td>0.237609</td>\n",
              "      <td>0.377436</td>\n",
              "      <td>-1.387024</td>\n",
              "      <td>-0.054952</td>\n",
              "      <td>-0.226487</td>\n",
              "      <td>0.178228</td>\n",
              "      <td>0.507757</td>\n",
              "      <td>-0.287924</td>\n",
              "      <td>-0.631418</td>\n",
              "      <td>-1.059647</td>\n",
              "      <td>-0.684093</td>\n",
              "      <td>1.965775</td>\n",
              "      <td>-1.232622</td>\n",
              "      <td>-0.208038</td>\n",
              "      <td>-0.108300</td>\n",
              "      <td>0.005274</td>\n",
              "      <td>-0.190321</td>\n",
              "      <td>-1.175575</td>\n",
              "      <td>0.647376</td>\n",
              "      <td>-0.221929</td>\n",
              "      <td>0.062723</td>\n",
              "      <td>0.061458</td>\n",
              "      <td>123.50</td>\n",
              "      <td>0</td>\n",
              "    </tr>\n",
              "    <tr>\n",
              "      <th>4</th>\n",
              "      <td>2.0</td>\n",
              "      <td>-1.158233</td>\n",
              "      <td>0.877737</td>\n",
              "      <td>1.548718</td>\n",
              "      <td>0.403034</td>\n",
              "      <td>-0.407193</td>\n",
              "      <td>0.095921</td>\n",
              "      <td>0.592941</td>\n",
              "      <td>-0.270533</td>\n",
              "      <td>0.817739</td>\n",
              "      <td>0.753074</td>\n",
              "      <td>-0.822843</td>\n",
              "      <td>0.538196</td>\n",
              "      <td>1.345852</td>\n",
              "      <td>-1.119670</td>\n",
              "      <td>0.175121</td>\n",
              "      <td>-0.451449</td>\n",
              "      <td>-0.237033</td>\n",
              "      <td>-0.038195</td>\n",
              "      <td>0.803487</td>\n",
              "      <td>0.408542</td>\n",
              "      <td>-0.009431</td>\n",
              "      <td>0.798278</td>\n",
              "      <td>-0.137458</td>\n",
              "      <td>0.141267</td>\n",
              "      <td>-0.206010</td>\n",
              "      <td>0.502292</td>\n",
              "      <td>0.219422</td>\n",
              "      <td>0.215153</td>\n",
              "      <td>69.99</td>\n",
              "      <td>0</td>\n",
              "    </tr>\n",
              "  </tbody>\n",
              "</table>\n",
              "</div>"
            ],
            "text/plain": [
              "   Time        V1        V2        V3  ...       V27       V28  Amount  Class\n",
              "0   0.0 -1.359807 -0.072781  2.536347  ...  0.133558 -0.021053  149.62      0\n",
              "1   0.0  1.191857  0.266151  0.166480  ... -0.008983  0.014724    2.69      0\n",
              "2   1.0 -1.358354 -1.340163  1.773209  ... -0.055353 -0.059752  378.66      0\n",
              "3   1.0 -0.966272 -0.185226  1.792993  ...  0.062723  0.061458  123.50      0\n",
              "4   2.0 -1.158233  0.877737  1.548718  ...  0.219422  0.215153   69.99      0\n",
              "\n",
              "[5 rows x 31 columns]"
            ]
          },
          "metadata": {
            "tags": []
          },
          "execution_count": 12
        }
      ]
    },
    {
      "cell_type": "code",
      "metadata": {
        "colab": {
          "base_uri": "https://localhost:8080/"
        },
        "id": "6qFYLJZunK_u",
        "outputId": "71b2d660-24a6-40e7-a641-d769ecf61103"
      },
      "source": [
        "print(df.shape)"
      ],
      "execution_count": 13,
      "outputs": [
        {
          "output_type": "stream",
          "text": [
            "(284807, 31)\n"
          ],
          "name": "stdout"
        }
      ]
    },
    {
      "cell_type": "code",
      "metadata": {
        "id": "-j1UcZidngZP"
      },
      "source": [
        "# # Configuring Modules\n",
        "%matplotlib inline\n",
        "sns.set(style='whitegrid', palette='muted', font_scale = 1.5)\n",
        "rcParams['figure.figsize'] = 14, 8\n",
        "Random_Seed = 42"
      ],
      "execution_count": 14,
      "outputs": []
    },
    {
      "cell_type": "code",
      "metadata": {
        "id": "Selihr2xnjdk"
      },
      "source": [
        "# Renaming Columns\n",
        "df.rename(columns = {\"Class\": \"Fraud\"}, inplace = True)"
      ],
      "execution_count": 15,
      "outputs": []
    },
    {
      "cell_type": "code",
      "metadata": {
        "colab": {
          "base_uri": "https://localhost:8080/"
        },
        "id": "qqjg61slnvJB",
        "outputId": "8ea2e608-a457-4f8c-f4ed-bbaa25a788d0"
      },
      "source": [
        "# Checking Data For Null Values\n",
        "df.isnull().sum()"
      ],
      "execution_count": 16,
      "outputs": [
        {
          "output_type": "execute_result",
          "data": {
            "text/plain": [
              "Time      0\n",
              "V1        0\n",
              "V2        0\n",
              "V3        0\n",
              "V4        0\n",
              "V5        0\n",
              "V6        0\n",
              "V7        0\n",
              "V8        0\n",
              "V9        0\n",
              "V10       0\n",
              "V11       0\n",
              "V12       0\n",
              "V13       0\n",
              "V14       0\n",
              "V15       0\n",
              "V16       0\n",
              "V17       0\n",
              "V18       0\n",
              "V19       0\n",
              "V20       0\n",
              "V21       0\n",
              "V22       0\n",
              "V23       0\n",
              "V24       0\n",
              "V25       0\n",
              "V26       0\n",
              "V27       0\n",
              "V28       0\n",
              "Amount    0\n",
              "Fraud     0\n",
              "dtype: int64"
            ]
          },
          "metadata": {
            "tags": []
          },
          "execution_count": 16
        }
      ]
    },
    {
      "cell_type": "code",
      "metadata": {
        "colab": {
          "base_uri": "https://localhost:8080/",
          "height": 666
        },
        "id": "qWWTn_V0nyxN",
        "outputId": "29421e0f-dd2c-44c5-e218-1fa355fd6025"
      },
      "source": [
        "# Checking Correlations\n",
        "corr = df.corr()\n",
        "\n",
        "# generate a mask for the upper triangle\n",
        "mask = np.zeros_like(corr, dtype=np.bool)\n",
        "mask[np.triu_indices_from(mask)] = True\n",
        "\n",
        "# figure size\n",
        "f, ax = plt.subplots(figsize=(20, 10))\n",
        "\n",
        "# generate a custom diverging colormap\n",
        "cmap = sns.diverging_palette(220, 10, as_cmap=True)\n",
        "\n",
        "# draw the heatmap with the mask and correct aspect ratio\n",
        "sns.heatmap(corr, mask=mask, cmap='CMRmap_r', vmax=.3, center=0, square=True,\n",
        "            linewidths=.5, cbar_kws={\"shrink\": .5})"
      ],
      "execution_count": 17,
      "outputs": [
        {
          "output_type": "execute_result",
          "data": {
            "text/plain": [
              "<matplotlib.axes._subplots.AxesSubplot at 0x7f76c0a75cd0>"
            ]
          },
          "metadata": {
            "tags": []
          },
          "execution_count": 17
        },
        {
          "output_type": "display_data",
          "data": {
            "image/png": "[encoded data removed]",
            "text/plain": [
              "<Figure size 1440x720 with 2 Axes>"
            ]
          },
          "metadata": {
            "tags": []
          }
        }
      ]
    },
    {
      "cell_type": "code",
      "metadata": {
        "colab": {
          "base_uri": "https://localhost:8080/",
          "height": 644
        },
        "id": "zSy39TTeoABR",
        "outputId": "2860db02-042e-4de5-ea01-a00f8549892d"
      },
      "source": [
        "# Transaction Class Distribution Plot\n",
        "labels = ['Valid', 'Fraud']\n",
        "plt.figure(figsize = (10,10))\n",
        "count_classes = pd.value_counts(df['Fraud'], sort = True)\n",
        "count_classes.plot(kind = 'bar', rot=0, color = 'purple', alpha = 0.25)\n",
        "plt.xticks(range(2), labels)\n",
        "plt.title(\"Transaction Class Distribution Graph\")\n",
        "plt.xlabel(\"Class\")\n",
        "plt.ylabel(\"Number of Observations\")\n",
        "plt.grid()\n",
        "plt.show()"
      ],
      "execution_count": 21,
      "outputs": [
        {
          "output_type": "display_data",
          "data": {
            "image/png": "[encoded data removed]",
            "text/plain": [
              "<Figure size 720x720 with 1 Axes>"
            ]
          },
          "metadata": {
            "tags": []
          }
        }
      ]
    },
    {
      "cell_type": "code",
      "metadata": {
        "colab": {
          "base_uri": "https://localhost:8080/"
        },
        "id": "ayLx4wo5oaU9",
        "outputId": "0cfaac74-2594-4e04-f0fb-e586d5a0b663"
      },
      "source": [
        "len(df)"
      ],
      "execution_count": 22,
      "outputs": [
        {
          "output_type": "execute_result",
          "data": {
            "text/plain": [
              "284807"
            ]
          },
          "metadata": {
            "tags": []
          },
          "execution_count": 22
        }
      ]
    },
    {
      "cell_type": "code",
      "metadata": {
        "colab": {
          "base_uri": "https://localhost:8080/"
        },
        "id": "tZr-T6j5ogOK",
        "outputId": "c817f0f4-5772-444f-9f58-d8bb0f0af16a"
      },
      "source": [
        "len_fraud = len(df[df.Fraud ==  1])\n",
        "len_fraud"
      ],
      "execution_count": 23,
      "outputs": [
        {
          "output_type": "execute_result",
          "data": {
            "text/plain": [
              "492"
            ]
          },
          "metadata": {
            "tags": []
          },
          "execution_count": 23
        }
      ]
    },
    {
      "cell_type": "code",
      "metadata": {
        "colab": {
          "base_uri": "https://localhost:8080/"
        },
        "id": "xH6xxQiComnV",
        "outputId": "b9984e70-27cf-4090-de32-b9655a6b0679"
      },
      "source": [
        "len_valid = 284807 - 492\n",
        "len_valid"
      ],
      "execution_count": 24,
      "outputs": [
        {
          "output_type": "execute_result",
          "data": {
            "text/plain": [
              "284315"
            ]
          },
          "metadata": {
            "tags": []
          },
          "execution_count": 24
        }
      ]
    },
    {
      "cell_type": "markdown",
      "metadata": {
        "id": "hG-17Xi5ozkH"
      },
      "source": [
        "Out of 284807 transactions 284315 are the valid transactions"
      ]
    },
    {
      "cell_type": "code",
      "metadata": {
        "colab": {
          "base_uri": "https://localhost:8080/"
        },
        "id": "2yKCN6cNovE4",
        "outputId": "550ba0e7-f769-412f-dafb-c815186038dc"
      },
      "source": [
        "perc_fraud = (len_fraud * 100) / len(df)\n",
        "perc_fraud"
      ],
      "execution_count": 25,
      "outputs": [
        {
          "output_type": "execute_result",
          "data": {
            "text/plain": [
              "0.1727485630620034"
            ]
          },
          "metadata": {
            "tags": []
          },
          "execution_count": 25
        }
      ]
    },
    {
      "cell_type": "markdown",
      "metadata": {
        "id": "tv-KWIEepFDG"
      },
      "source": [
        "##As you can see out of total transactions only 0.17 % are the fraud transactions.\n",
        "# It means that we have highly Imbalance Dataset in our hands. There is a large margin between the valid transactions and the fraud transactions."
      ]
    },
    {
      "cell_type": "code",
      "metadata": {
        "id": "WWaA3RQno5oR"
      },
      "source": [
        "# Making DataFrames Of Valid And Fraud Transactions To Check Important Stats\n",
        "Fraud_df = df[df.Fraud == 1]\n",
        "Valid_df = df[df.Fraud == 0]"
      ],
      "execution_count": 27,
      "outputs": []
    },
    {
      "cell_type": "code",
      "metadata": {
        "colab": {
          "base_uri": "https://localhost:8080/"
        },
        "id": "haouvm7QpQtB",
        "outputId": "632f4482-b8a4-4d7c-b31d-03947f20cc23"
      },
      "source": [
        "# Checking Important Stats of Amount used in Fraud Transactions\n",
        "Fraud_df.Amount.describe().T"
      ],
      "execution_count": 28,
      "outputs": [
        {
          "output_type": "execute_result",
          "data": {
            "text/plain": [
              "count     492.000000\n",
              "mean      122.211321\n",
              "std       256.683288\n",
              "min         0.000000\n",
              "25%         1.000000\n",
              "50%         9.250000\n",
              "75%       105.890000\n",
              "max      2125.870000\n",
              "Name: Amount, dtype: float64"
            ]
          },
          "metadata": {
            "tags": []
          },
          "execution_count": 28
        }
      ]
    },
    {
      "cell_type": "code",
      "metadata": {
        "colab": {
          "base_uri": "https://localhost:8080/",
          "height": 573
        },
        "id": "J7_UNv4auQgm",
        "outputId": "2c65d4ad-022a-4de3-9d05-cc0086fba969"
      },
      "source": [
        "# Amount per transaction by class\n",
        "f, (ax1, ax2) = plt.subplots(2, 1, sharex=True)\n",
        "f.suptitle('Amount Per Transaction Graph')\n",
        "\n",
        "bins = 50\n",
        "\n",
        "ax1.hist(Fraud_df.Amount, bins = bins, color='blue')\n",
        "ax1.set_title('Fraud Transactions')\n",
        "\n",
        "ax2.hist(Valid_df.Amount, bins = bins, color='red', alpha = 0.5)\n",
        "ax2.set_title('Valid Transactions')\n",
        "\n",
        "plt.xlabel('Amount ($)')\n",
        "plt.ylabel('Number of Transactions')\n",
        "plt.xlim((0, 20000))\n",
        "plt.yscale('log')\n",
        "plt.show();"
      ],
      "execution_count": 29,
      "outputs": [
        {
          "output_type": "display_data",
          "data": {
            "image/png": "[encoded data removed]",
            "text/plain": [
              "<Figure size 1008x576 with 2 Axes>"
            ]
          },
          "metadata": {
            "tags": []
          }
        }
      ]
    },
    {
      "cell_type": "code",
      "metadata": {
        "colab": {
          "base_uri": "https://localhost:8080/",
          "height": 573
        },
        "id": "zaZyJw0kuX2V",
        "outputId": "f30ecd21-7b20-4038-80df-7479a699cdb6"
      },
      "source": [
        "# Time of transaction vs Amount by class\n",
        "f, (ax1, ax2) = plt.subplots(2, 1, sharex=True)\n",
        "f.suptitle('Time of Transaction VS Amount of Transaction Graph')\n",
        "\n",
        "ax1.scatter(Fraud_df.Time, Fraud_df.Amount)\n",
        "ax1.set_title('Fraud Transactions')\n",
        "\n",
        "ax2.scatter(Valid_df.Time,Valid_df.Amount)\n",
        "ax2.set_title('Valid Transactions')\n",
        "\n",
        "plt.xlabel('Time (In Seconds)')\n",
        "plt.ylabel('Amount')\n",
        "plt.show()"
      ],
      "execution_count": 30,
      "outputs": [
        {
          "output_type": "display_data",
          "data": {
            "image/png": "[encoded data removed]",
            "text/plain": [
              "<Figure size 1008x576 with 2 Axes>"
            ]
          },
          "metadata": {
            "tags": []
          }
        }
      ]
    },
    {
      "cell_type": "code",
      "metadata": {
        "id": "HObTDGkougsw"
      },
      "source": [
        "# Normalizing Data\n",
        "# We Need To Normalize Two Features: Time And Amount\n",
        "from sklearn.preprocessing import StandardScaler\n",
        "df_norm = df\n",
        "df_norm['Time'] = StandardScaler().fit_transform(df_norm['Time'].values.reshape(-1, 1))\n",
        "df_norm['Amount'] = StandardScaler().fit_transform(df_norm['Amount'].values.reshape(-1, 1))"
      ],
      "execution_count": 31,
      "outputs": []
    },
    {
      "cell_type": "markdown",
      "metadata": {
        "id": "DYP10xqOuxUS"
      },
      "source": [
        "Splitting Dataset Into Testing and Training Data"
      ]
    },
    {
      "cell_type": "code",
      "metadata": {
        "colab": {
          "base_uri": "https://localhost:8080/"
        },
        "id": "Obp15hwVutq0",
        "outputId": "8b5f6366-28db-4e93-9538-0f1437394211"
      },
      "source": [
        "# Training Data\n",
        "train_data = df_norm.iloc[:199365,:]\n",
        "train_data.shape"
      ],
      "execution_count": 32,
      "outputs": [
        {
          "output_type": "execute_result",
          "data": {
            "text/plain": [
              "(199365, 31)"
            ]
          },
          "metadata": {
            "tags": []
          },
          "execution_count": 32
        }
      ]
    },
    {
      "cell_type": "code",
      "metadata": {
        "colab": {
          "base_uri": "https://localhost:8080/"
        },
        "id": "2ED8Zwceu2pb",
        "outputId": "f23e2578-2124-44fd-c4f3-4938323df116"
      },
      "source": [
        "# Testing Data\n",
        "test_data = df_norm.iloc[199365:,:]\n",
        "test_data.shape"
      ],
      "execution_count": 33,
      "outputs": [
        {
          "output_type": "execute_result",
          "data": {
            "text/plain": [
              "(85442, 31)"
            ]
          },
          "metadata": {
            "tags": []
          },
          "execution_count": 33
        }
      ]
    },
    {
      "cell_type": "code",
      "metadata": {
        "colab": {
          "base_uri": "https://localhost:8080/",
          "height": 215
        },
        "id": "1YCBAgVQu78L",
        "outputId": "8aebfba1-beb7-4763-ac89-fa9c2cc21f9f"
      },
      "source": [
        "train_data.head()"
      ],
      "execution_count": 34,
      "outputs": [
        {
          "output_type": "execute_result",
          "data": {
            "text/html": [
              "<div>\n",
              "<style scoped>\n",
              "    .dataframe tbody tr th:only-of-type {\n",
              "        vertical-align: middle;\n",
              "    }\n",
              "\n",
              "    .dataframe tbody tr th {\n",
              "        vertical-align: top;\n",
              "    }\n",
              "\n",
              "    .dataframe thead th {\n",
              "        text-align: right;\n",
              "    }\n",
              "</style>\n",
              "<table border=\"1\" class=\"dataframe\">\n",
              "  <thead>\n",
              "    <tr style=\"text-align: right;\">\n",
              "      <th></th>\n",
              "      <th>Time</th>\n",
              "      <th>V1</th>\n",
              "      <th>V2</th>\n",
              "      <th>V3</th>\n",
              "      <th>V4</th>\n",
              "      <th>V5</th>\n",
              "      <th>V6</th>\n",
              "      <th>V7</th>\n",
              "      <th>V8</th>\n",
              "      <th>V9</th>\n",
              "      <th>V10</th>\n",
              "      <th>V11</th>\n",
              "      <th>V12</th>\n",
              "      <th>V13</th>\n",
              "      <th>V14</th>\n",
              "      <th>V15</th>\n",
              "      <th>V16</th>\n",
              "      <th>V17</th>\n",
              "      <th>V18</th>\n",
              "      <th>V19</th>\n",
              "      <th>V20</th>\n",
              "      <th>V21</th>\n",
              "      <th>V22</th>\n",
              "      <th>V23</th>\n",
              "      <th>V24</th>\n",
              "      <th>V25</th>\n",
              "      <th>V26</th>\n",
              "      <th>V27</th>\n",
              "      <th>V28</th>\n",
              "      <th>Amount</th>\n",
              "      <th>Fraud</th>\n",
              "    </tr>\n",
              "  </thead>\n",
              "  <tbody>\n",
              "    <tr>\n",
              "      <th>0</th>\n",
              "      <td>-1.996583</td>\n",
              "      <td>-1.359807</td>\n",
              "      <td>-0.072781</td>\n",
              "      <td>2.536347</td>\n",
              "      <td>1.378155</td>\n",
              "      <td>-0.338321</td>\n",
              "      <td>0.462388</td>\n",
              "      <td>0.239599</td>\n",
              "      <td>0.098698</td>\n",
              "      <td>0.363787</td>\n",
              "      <td>0.090794</td>\n",
              "      <td>-0.551600</td>\n",
              "      <td>-0.617801</td>\n",
              "      <td>-0.991390</td>\n",
              "      <td>-0.311169</td>\n",
              "      <td>1.468177</td>\n",
              "      <td>-0.470401</td>\n",
              "      <td>0.207971</td>\n",
              "      <td>0.025791</td>\n",
              "      <td>0.403993</td>\n",
              "      <td>0.251412</td>\n",
              "      <td>-0.018307</td>\n",
              "      <td>0.277838</td>\n",
              "      <td>-0.110474</td>\n",
              "      <td>0.066928</td>\n",
              "      <td>0.128539</td>\n",
              "      <td>-0.189115</td>\n",
              "      <td>0.133558</td>\n",
              "      <td>-0.021053</td>\n",
              "      <td>0.244964</td>\n",
              "      <td>0</td>\n",
              "    </tr>\n",
              "    <tr>\n",
              "      <th>1</th>\n",
              "      <td>-1.996583</td>\n",
              "      <td>1.191857</td>\n",
              "      <td>0.266151</td>\n",
              "      <td>0.166480</td>\n",
              "      <td>0.448154</td>\n",
              "      <td>0.060018</td>\n",
              "      <td>-0.082361</td>\n",
              "      <td>-0.078803</td>\n",
              "      <td>0.085102</td>\n",
              "      <td>-0.255425</td>\n",
              "      <td>-0.166974</td>\n",
              "      <td>1.612727</td>\n",
              "      <td>1.065235</td>\n",
              "      <td>0.489095</td>\n",
              "      <td>-0.143772</td>\n",
              "      <td>0.635558</td>\n",
              "      <td>0.463917</td>\n",
              "      <td>-0.114805</td>\n",
              "      <td>-0.183361</td>\n",
              "      <td>-0.145783</td>\n",
              "      <td>-0.069083</td>\n",
              "      <td>-0.225775</td>\n",
              "      <td>-0.638672</td>\n",
              "      <td>0.101288</td>\n",
              "      <td>-0.339846</td>\n",
              "      <td>0.167170</td>\n",
              "      <td>0.125895</td>\n",
              "      <td>-0.008983</td>\n",
              "      <td>0.014724</td>\n",
              "      <td>-0.342475</td>\n",
              "      <td>0</td>\n",
              "    </tr>\n",
              "    <tr>\n",
              "      <th>2</th>\n",
              "      <td>-1.996562</td>\n",
              "      <td>-1.358354</td>\n",
              "      <td>-1.340163</td>\n",
              "      <td>1.773209</td>\n",
              "      <td>0.379780</td>\n",
              "      <td>-0.503198</td>\n",
              "      <td>1.800499</td>\n",
              "      <td>0.791461</td>\n",
              "      <td>0.247676</td>\n",
              "      <td>-1.514654</td>\n",
              "      <td>0.207643</td>\n",
              "      <td>0.624501</td>\n",
              "      <td>0.066084</td>\n",
              "      <td>0.717293</td>\n",
              "      <td>-0.165946</td>\n",
              "      <td>2.345865</td>\n",
              "      <td>-2.890083</td>\n",
              "      <td>1.109969</td>\n",
              "      <td>-0.121359</td>\n",
              "      <td>-2.261857</td>\n",
              "      <td>0.524980</td>\n",
              "      <td>0.247998</td>\n",
              "      <td>0.771679</td>\n",
              "      <td>0.909412</td>\n",
              "      <td>-0.689281</td>\n",
              "      <td>-0.327642</td>\n",
              "      <td>-0.139097</td>\n",
              "      <td>-0.055353</td>\n",
              "      <td>-0.059752</td>\n",
              "      <td>1.160686</td>\n",
              "      <td>0</td>\n",
              "    </tr>\n",
              "    <tr>\n",
              "      <th>3</th>\n",
              "      <td>-1.996562</td>\n",
              "      <td>-0.966272</td>\n",
              "      <td>-0.185226</td>\n",
              "      <td>1.792993</td>\n",
              "      <td>-0.863291</td>\n",
              "      <td>-0.010309</td>\n",
              "      <td>1.247203</td>\n",
              "      <td>0.237609</td>\n",
              "      <td>0.377436</td>\n",
              "      <td>-1.387024</td>\n",
              "      <td>-0.054952</td>\n",
              "      <td>-0.226487</td>\n",
              "      <td>0.178228</td>\n",
              "      <td>0.507757</td>\n",
              "      <td>-0.287924</td>\n",
              "      <td>-0.631418</td>\n",
              "      <td>-1.059647</td>\n",
              "      <td>-0.684093</td>\n",
              "      <td>1.965775</td>\n",
              "      <td>-1.232622</td>\n",
              "      <td>-0.208038</td>\n",
              "      <td>-0.108300</td>\n",
              "      <td>0.005274</td>\n",
              "      <td>-0.190321</td>\n",
              "      <td>-1.175575</td>\n",
              "      <td>0.647376</td>\n",
              "      <td>-0.221929</td>\n",
              "      <td>0.062723</td>\n",
              "      <td>0.061458</td>\n",
              "      <td>0.140534</td>\n",
              "      <td>0</td>\n",
              "    </tr>\n",
              "    <tr>\n",
              "      <th>4</th>\n",
              "      <td>-1.996541</td>\n",
              "      <td>-1.158233</td>\n",
              "      <td>0.877737</td>\n",
              "      <td>1.548718</td>\n",
              "      <td>0.403034</td>\n",
              "      <td>-0.407193</td>\n",
              "      <td>0.095921</td>\n",
              "      <td>0.592941</td>\n",
              "      <td>-0.270533</td>\n",
              "      <td>0.817739</td>\n",
              "      <td>0.753074</td>\n",
              "      <td>-0.822843</td>\n",
              "      <td>0.538196</td>\n",
              "      <td>1.345852</td>\n",
              "      <td>-1.119670</td>\n",
              "      <td>0.175121</td>\n",
              "      <td>-0.451449</td>\n",
              "      <td>-0.237033</td>\n",
              "      <td>-0.038195</td>\n",
              "      <td>0.803487</td>\n",
              "      <td>0.408542</td>\n",
              "      <td>-0.009431</td>\n",
              "      <td>0.798278</td>\n",
              "      <td>-0.137458</td>\n",
              "      <td>0.141267</td>\n",
              "      <td>-0.206010</td>\n",
              "      <td>0.502292</td>\n",
              "      <td>0.219422</td>\n",
              "      <td>0.215153</td>\n",
              "      <td>-0.073403</td>\n",
              "      <td>0</td>\n",
              "    </tr>\n",
              "  </tbody>\n",
              "</table>\n",
              "</div>"
            ],
            "text/plain": [
              "       Time        V1        V2        V3  ...       V27       V28    Amount  Fraud\n",
              "0 -1.996583 -1.359807 -0.072781  2.536347  ...  0.133558 -0.021053  0.244964      0\n",
              "1 -1.996583  1.191857  0.266151  0.166480  ... -0.008983  0.014724 -0.342475      0\n",
              "2 -1.996562 -1.358354 -1.340163  1.773209  ... -0.055353 -0.059752  1.160686      0\n",
              "3 -1.996562 -0.966272 -0.185226  1.792993  ...  0.062723  0.061458  0.140534      0\n",
              "4 -1.996541 -1.158233  0.877737  1.548718  ...  0.219422  0.215153 -0.073403      0\n",
              "\n",
              "[5 rows x 31 columns]"
            ]
          },
          "metadata": {
            "tags": []
          },
          "execution_count": 34
        }
      ]
    },
    {
      "cell_type": "code",
      "metadata": {
        "colab": {
          "base_uri": "https://localhost:8080/",
          "height": 215
        },
        "id": "WcLyVMHVvDgE",
        "outputId": "abc8736c-6d87-47c0-a95c-883d2512dfec"
      },
      "source": [
        "# Shuffling Training And Testing Data\n",
        "train_data = train_data.sample(frac=1)\n",
        "train_data.head()"
      ],
      "execution_count": 35,
      "outputs": [
        {
          "output_type": "execute_result",
          "data": {
            "text/html": [
              "<div>\n",
              "<style scoped>\n",
              "    .dataframe tbody tr th:only-of-type {\n",
              "        vertical-align: middle;\n",
              "    }\n",
              "\n",
              "    .dataframe tbody tr th {\n",
              "        vertical-align: top;\n",
              "    }\n",
              "\n",
              "    .dataframe thead th {\n",
              "        text-align: right;\n",
              "    }\n",
              "</style>\n",
              "<table border=\"1\" class=\"dataframe\">\n",
              "  <thead>\n",
              "    <tr style=\"text-align: right;\">\n",
              "      <th></th>\n",
              "      <th>Time</th>\n",
              "      <th>V1</th>\n",
              "      <th>V2</th>\n",
              "      <th>V3</th>\n",
              "      <th>V4</th>\n",
              "      <th>V5</th>\n",
              "      <th>V6</th>\n",
              "      <th>V7</th>\n",
              "      <th>V8</th>\n",
              "      <th>V9</th>\n",
              "      <th>V10</th>\n",
              "      <th>V11</th>\n",
              "      <th>V12</th>\n",
              "      <th>V13</th>\n",
              "      <th>V14</th>\n",
              "      <th>V15</th>\n",
              "      <th>V16</th>\n",
              "      <th>V17</th>\n",
              "      <th>V18</th>\n",
              "      <th>V19</th>\n",
              "      <th>V20</th>\n",
              "      <th>V21</th>\n",
              "      <th>V22</th>\n",
              "      <th>V23</th>\n",
              "      <th>V24</th>\n",
              "      <th>V25</th>\n",
              "      <th>V26</th>\n",
              "      <th>V27</th>\n",
              "      <th>V28</th>\n",
              "      <th>Amount</th>\n",
              "      <th>Fraud</th>\n",
              "    </tr>\n",
              "  </thead>\n",
              "  <tbody>\n",
              "    <tr>\n",
              "      <th>57112</th>\n",
              "      <td>-0.990857</td>\n",
              "      <td>-1.174485</td>\n",
              "      <td>1.441447</td>\n",
              "      <td>1.042781</td>\n",
              "      <td>-0.161490</td>\n",
              "      <td>-0.173503</td>\n",
              "      <td>-0.245683</td>\n",
              "      <td>0.204253</td>\n",
              "      <td>0.454105</td>\n",
              "      <td>-0.702409</td>\n",
              "      <td>-0.062903</td>\n",
              "      <td>1.610350</td>\n",
              "      <td>1.367207</td>\n",
              "      <td>0.807931</td>\n",
              "      <td>0.408991</td>\n",
              "      <td>0.152548</td>\n",
              "      <td>-0.006534</td>\n",
              "      <td>-0.193180</td>\n",
              "      <td>-0.258267</td>\n",
              "      <td>-0.218689</td>\n",
              "      <td>-0.036770</td>\n",
              "      <td>0.208407</td>\n",
              "      <td>0.471408</td>\n",
              "      <td>0.027831</td>\n",
              "      <td>0.261387</td>\n",
              "      <td>-0.509025</td>\n",
              "      <td>0.178174</td>\n",
              "      <td>-0.171117</td>\n",
              "      <td>0.144621</td>\n",
              "      <td>-0.346073</td>\n",
              "      <td>0</td>\n",
              "    </tr>\n",
              "    <tr>\n",
              "      <th>9710</th>\n",
              "      <td>-1.691896</td>\n",
              "      <td>1.101430</td>\n",
              "      <td>-0.162202</td>\n",
              "      <td>0.927627</td>\n",
              "      <td>0.227623</td>\n",
              "      <td>-0.708281</td>\n",
              "      <td>-0.153691</td>\n",
              "      <td>-0.578088</td>\n",
              "      <td>0.059882</td>\n",
              "      <td>1.448840</td>\n",
              "      <td>-0.407836</td>\n",
              "      <td>2.753506</td>\n",
              "      <td>-1.497222</td>\n",
              "      <td>1.704653</td>\n",
              "      <td>1.707450</td>\n",
              "      <td>0.113262</td>\n",
              "      <td>0.331903</td>\n",
              "      <td>0.394276</td>\n",
              "      <td>0.133207</td>\n",
              "      <td>-0.557004</td>\n",
              "      <td>-0.058361</td>\n",
              "      <td>0.040865</td>\n",
              "      <td>0.326155</td>\n",
              "      <td>0.005728</td>\n",
              "      <td>0.243643</td>\n",
              "      <td>0.069822</td>\n",
              "      <td>1.028265</td>\n",
              "      <td>-0.080475</td>\n",
              "      <td>-0.001598</td>\n",
              "      <td>-0.197304</td>\n",
              "      <td>0</td>\n",
              "    </tr>\n",
              "    <tr>\n",
              "      <th>162610</th>\n",
              "      <td>0.430174</td>\n",
              "      <td>2.006935</td>\n",
              "      <td>-0.026092</td>\n",
              "      <td>-1.102489</td>\n",
              "      <td>1.365067</td>\n",
              "      <td>-0.076097</td>\n",
              "      <td>-0.876611</td>\n",
              "      <td>0.075379</td>\n",
              "      <td>-0.178253</td>\n",
              "      <td>0.726989</td>\n",
              "      <td>0.293336</td>\n",
              "      <td>-1.271853</td>\n",
              "      <td>-0.552555</td>\n",
              "      <td>-1.630415</td>\n",
              "      <td>0.618358</td>\n",
              "      <td>0.198434</td>\n",
              "      <td>-0.198808</td>\n",
              "      <td>-0.310835</td>\n",
              "      <td>-0.025455</td>\n",
              "      <td>-0.460951</td>\n",
              "      <td>-0.384764</td>\n",
              "      <td>0.152847</td>\n",
              "      <td>0.586581</td>\n",
              "      <td>0.033276</td>\n",
              "      <td>-0.119450</td>\n",
              "      <td>0.239582</td>\n",
              "      <td>-0.450171</td>\n",
              "      <td>0.005586</td>\n",
              "      <td>-0.054836</td>\n",
              "      <td>-0.333239</td>\n",
              "      <td>0</td>\n",
              "    </tr>\n",
              "    <tr>\n",
              "      <th>9180</th>\n",
              "      <td>-1.720135</td>\n",
              "      <td>0.961947</td>\n",
              "      <td>-1.271395</td>\n",
              "      <td>1.189481</td>\n",
              "      <td>-0.277193</td>\n",
              "      <td>-1.606945</td>\n",
              "      <td>0.261155</td>\n",
              "      <td>-1.252502</td>\n",
              "      <td>0.191156</td>\n",
              "      <td>0.980034</td>\n",
              "      <td>0.207025</td>\n",
              "      <td>2.393160</td>\n",
              "      <td>-2.429197</td>\n",
              "      <td>1.192000</td>\n",
              "      <td>1.106909</td>\n",
              "      <td>-0.760718</td>\n",
              "      <td>1.045496</td>\n",
              "      <td>1.183902</td>\n",
              "      <td>-0.671714</td>\n",
              "      <td>0.064879</td>\n",
              "      <td>0.279624</td>\n",
              "      <td>0.336568</td>\n",
              "      <td>0.914418</td>\n",
              "      <td>-0.178395</td>\n",
              "      <td>0.207494</td>\n",
              "      <td>0.227386</td>\n",
              "      <td>-0.099694</td>\n",
              "      <td>0.003354</td>\n",
              "      <td>0.033188</td>\n",
              "      <td>0.302457</td>\n",
              "      <td>0</td>\n",
              "    </tr>\n",
              "    <tr>\n",
              "      <th>111995</th>\n",
              "      <td>-0.470515</td>\n",
              "      <td>-1.248311</td>\n",
              "      <td>0.047641</td>\n",
              "      <td>2.330262</td>\n",
              "      <td>1.184037</td>\n",
              "      <td>0.636999</td>\n",
              "      <td>-0.575883</td>\n",
              "      <td>-0.032903</td>\n",
              "      <td>0.200466</td>\n",
              "      <td>-0.607899</td>\n",
              "      <td>-0.332164</td>\n",
              "      <td>1.153838</td>\n",
              "      <td>1.153741</td>\n",
              "      <td>0.224437</td>\n",
              "      <td>0.048679</td>\n",
              "      <td>-0.656295</td>\n",
              "      <td>-0.553137</td>\n",
              "      <td>0.046429</td>\n",
              "      <td>0.121364</td>\n",
              "      <td>1.156998</td>\n",
              "      <td>0.321124</td>\n",
              "      <td>-0.062374</td>\n",
              "      <td>-0.329161</td>\n",
              "      <td>-0.029973</td>\n",
              "      <td>0.525950</td>\n",
              "      <td>0.323332</td>\n",
              "      <td>-0.442876</td>\n",
              "      <td>0.061509</td>\n",
              "      <td>0.093282</td>\n",
              "      <td>-0.273348</td>\n",
              "      <td>0</td>\n",
              "    </tr>\n",
              "  </tbody>\n",
              "</table>\n",
              "</div>"
            ],
            "text/plain": [
              "            Time        V1        V2  ...       V28    Amount  Fraud\n",
              "57112  -0.990857 -1.174485  1.441447  ...  0.144621 -0.346073      0\n",
              "9710   -1.691896  1.101430 -0.162202  ... -0.001598 -0.197304      0\n",
              "162610  0.430174  2.006935 -0.026092  ... -0.054836 -0.333239      0\n",
              "9180   -1.720135  0.961947 -1.271395  ...  0.033188  0.302457      0\n",
              "111995 -0.470515 -1.248311  0.047641  ...  0.093282 -0.273348      0\n",
              "\n",
              "[5 rows x 31 columns]"
            ]
          },
          "metadata": {
            "tags": []
          },
          "execution_count": 35
        }
      ]
    },
    {
      "cell_type": "code",
      "metadata": {
        "colab": {
          "base_uri": "https://localhost:8080/",
          "height": 215
        },
        "id": "I2jGNuKDvNI1",
        "outputId": "e24b4321-c26e-40e3-f074-882779715eb0"
      },
      "source": [
        "test_data = test_data.sample(frac = 1)\n",
        "test_data.head()"
      ],
      "execution_count": 36,
      "outputs": [
        {
          "output_type": "execute_result",
          "data": {
            "text/html": [
              "<div>\n",
              "<style scoped>\n",
              "    .dataframe tbody tr th:only-of-type {\n",
              "        vertical-align: middle;\n",
              "    }\n",
              "\n",
              "    .dataframe tbody tr th {\n",
              "        vertical-align: top;\n",
              "    }\n",
              "\n",
              "    .dataframe thead th {\n",
              "        text-align: right;\n",
              "    }\n",
              "</style>\n",
              "<table border=\"1\" class=\"dataframe\">\n",
              "  <thead>\n",
              "    <tr style=\"text-align: right;\">\n",
              "      <th></th>\n",
              "      <th>Time</th>\n",
              "      <th>V1</th>\n",
              "      <th>V2</th>\n",
              "      <th>V3</th>\n",
              "      <th>V4</th>\n",
              "      <th>V5</th>\n",
              "      <th>V6</th>\n",
              "      <th>V7</th>\n",
              "      <th>V8</th>\n",
              "      <th>V9</th>\n",
              "      <th>V10</th>\n",
              "      <th>V11</th>\n",
              "      <th>V12</th>\n",
              "      <th>V13</th>\n",
              "      <th>V14</th>\n",
              "      <th>V15</th>\n",
              "      <th>V16</th>\n",
              "      <th>V17</th>\n",
              "      <th>V18</th>\n",
              "      <th>V19</th>\n",
              "      <th>V20</th>\n",
              "      <th>V21</th>\n",
              "      <th>V22</th>\n",
              "      <th>V23</th>\n",
              "      <th>V24</th>\n",
              "      <th>V25</th>\n",
              "      <th>V26</th>\n",
              "      <th>V27</th>\n",
              "      <th>V28</th>\n",
              "      <th>Amount</th>\n",
              "      <th>Fraud</th>\n",
              "    </tr>\n",
              "  </thead>\n",
              "  <tbody>\n",
              "    <tr>\n",
              "      <th>217869</th>\n",
              "      <td>0.974164</td>\n",
              "      <td>1.681630</td>\n",
              "      <td>-1.855775</td>\n",
              "      <td>0.148067</td>\n",
              "      <td>-0.567042</td>\n",
              "      <td>-1.983603</td>\n",
              "      <td>-0.327593</td>\n",
              "      <td>-1.296647</td>\n",
              "      <td>-0.034159</td>\n",
              "      <td>0.483598</td>\n",
              "      <td>0.560304</td>\n",
              "      <td>-0.718133</td>\n",
              "      <td>-0.024123</td>\n",
              "      <td>1.231068</td>\n",
              "      <td>-0.977503</td>\n",
              "      <td>0.588316</td>\n",
              "      <td>1.656077</td>\n",
              "      <td>-0.144196</td>\n",
              "      <td>-0.732808</td>\n",
              "      <td>0.092178</td>\n",
              "      <td>0.491983</td>\n",
              "      <td>0.572417</td>\n",
              "      <td>1.285624</td>\n",
              "      <td>-0.009597</td>\n",
              "      <td>0.114503</td>\n",
              "      <td>-0.478050</td>\n",
              "      <td>-0.121600</td>\n",
              "      <td>0.018904</td>\n",
              "      <td>0.009662</td>\n",
              "      <td>0.582323</td>\n",
              "      <td>0</td>\n",
              "    </tr>\n",
              "    <tr>\n",
              "      <th>248682</th>\n",
              "      <td>1.247348</td>\n",
              "      <td>-3.278252</td>\n",
              "      <td>-2.739360</td>\n",
              "      <td>1.523395</td>\n",
              "      <td>5.001722</td>\n",
              "      <td>1.329341</td>\n",
              "      <td>1.293375</td>\n",
              "      <td>0.483900</td>\n",
              "      <td>0.074132</td>\n",
              "      <td>-1.703530</td>\n",
              "      <td>1.676103</td>\n",
              "      <td>0.196721</td>\n",
              "      <td>-0.794973</td>\n",
              "      <td>-0.064722</td>\n",
              "      <td>0.011860</td>\n",
              "      <td>1.057901</td>\n",
              "      <td>0.793619</td>\n",
              "      <td>-0.658547</td>\n",
              "      <td>1.499759</td>\n",
              "      <td>1.548105</td>\n",
              "      <td>0.628516</td>\n",
              "      <td>0.178895</td>\n",
              "      <td>0.567447</td>\n",
              "      <td>1.102368</td>\n",
              "      <td>0.178061</td>\n",
              "      <td>0.549535</td>\n",
              "      <td>0.554028</td>\n",
              "      <td>-0.094698</td>\n",
              "      <td>0.117922</td>\n",
              "      <td>1.542903</td>\n",
              "      <td>0</td>\n",
              "    </tr>\n",
              "    <tr>\n",
              "      <th>261318</th>\n",
              "      <td>1.371842</td>\n",
              "      <td>1.831345</td>\n",
              "      <td>-0.323838</td>\n",
              "      <td>-0.449859</td>\n",
              "      <td>1.253513</td>\n",
              "      <td>-0.303681</td>\n",
              "      <td>0.011343</td>\n",
              "      <td>-0.416115</td>\n",
              "      <td>0.010320</td>\n",
              "      <td>0.806846</td>\n",
              "      <td>0.161626</td>\n",
              "      <td>-0.855897</td>\n",
              "      <td>0.493967</td>\n",
              "      <td>0.693306</td>\n",
              "      <td>-0.101564</td>\n",
              "      <td>0.821441</td>\n",
              "      <td>0.429457</td>\n",
              "      <td>-0.806984</td>\n",
              "      <td>0.258980</td>\n",
              "      <td>-0.826039</td>\n",
              "      <td>-0.049762</td>\n",
              "      <td>0.268713</td>\n",
              "      <td>0.770458</td>\n",
              "      <td>0.106404</td>\n",
              "      <td>0.674834</td>\n",
              "      <td>-0.084598</td>\n",
              "      <td>-0.598302</td>\n",
              "      <td>0.045642</td>\n",
              "      <td>-0.010713</td>\n",
              "      <td>-0.053373</td>\n",
              "      <td>0</td>\n",
              "    </tr>\n",
              "    <tr>\n",
              "      <th>281875</th>\n",
              "      <td>1.593456</td>\n",
              "      <td>1.919636</td>\n",
              "      <td>-0.350730</td>\n",
              "      <td>-1.327564</td>\n",
              "      <td>0.308874</td>\n",
              "      <td>0.046171</td>\n",
              "      <td>-0.588003</td>\n",
              "      <td>0.145349</td>\n",
              "      <td>-0.142974</td>\n",
              "      <td>0.395414</td>\n",
              "      <td>0.202947</td>\n",
              "      <td>0.561351</td>\n",
              "      <td>0.847095</td>\n",
              "      <td>-0.410533</td>\n",
              "      <td>0.516139</td>\n",
              "      <td>-0.804117</td>\n",
              "      <td>-0.003392</td>\n",
              "      <td>-0.476948</td>\n",
              "      <td>-0.322359</td>\n",
              "      <td>0.531555</td>\n",
              "      <td>-0.119926</td>\n",
              "      <td>-0.182475</td>\n",
              "      <td>-0.529768</td>\n",
              "      <td>0.190492</td>\n",
              "      <td>-0.388239</td>\n",
              "      <td>-0.229821</td>\n",
              "      <td>0.277265</td>\n",
              "      <td>-0.087874</td>\n",
              "      <td>-0.067945</td>\n",
              "      <td>-0.107187</td>\n",
              "      <td>0</td>\n",
              "    </tr>\n",
              "    <tr>\n",
              "      <th>239935</th>\n",
              "      <td>1.169434</td>\n",
              "      <td>-1.913955</td>\n",
              "      <td>0.258217</td>\n",
              "      <td>0.068211</td>\n",
              "      <td>1.008662</td>\n",
              "      <td>0.855771</td>\n",
              "      <td>2.141275</td>\n",
              "      <td>-0.665629</td>\n",
              "      <td>1.527680</td>\n",
              "      <td>-0.103029</td>\n",
              "      <td>-0.611712</td>\n",
              "      <td>0.217540</td>\n",
              "      <td>1.101605</td>\n",
              "      <td>-0.614592</td>\n",
              "      <td>0.590474</td>\n",
              "      <td>-0.756656</td>\n",
              "      <td>-1.167029</td>\n",
              "      <td>1.052332</td>\n",
              "      <td>-1.228240</td>\n",
              "      <td>0.634511</td>\n",
              "      <td>-0.801649</td>\n",
              "      <td>-0.346591</td>\n",
              "      <td>-0.520224</td>\n",
              "      <td>1.033759</td>\n",
              "      <td>-0.816778</td>\n",
              "      <td>-0.799370</td>\n",
              "      <td>-0.912146</td>\n",
              "      <td>0.020047</td>\n",
              "      <td>-0.084299</td>\n",
              "      <td>-0.221692</td>\n",
              "      <td>0</td>\n",
              "    </tr>\n",
              "  </tbody>\n",
              "</table>\n",
              "</div>"
            ],
            "text/plain": [
              "            Time        V1        V2  ...       V28    Amount  Fraud\n",
              "217869  0.974164  1.681630 -1.855775  ...  0.009662  0.582323      0\n",
              "248682  1.247348 -3.278252 -2.739360  ...  0.117922  1.542903      0\n",
              "261318  1.371842  1.831345 -0.323838  ... -0.010713 -0.053373      0\n",
              "281875  1.593456  1.919636 -0.350730  ... -0.067945 -0.107187      0\n",
              "239935  1.169434 -1.913955  0.258217  ... -0.084299 -0.221692      0\n",
              "\n",
              "[5 rows x 31 columns]"
            ]
          },
          "metadata": {
            "tags": []
          },
          "execution_count": 36
        }
      ]
    },
    {
      "cell_type": "code",
      "metadata": {
        "id": "6UAb1KqUwRIe"
      },
      "source": [
        "# Droping Labels From Training And Testing Data\n",
        "train_labels = train_data.pop('Fraud')\n",
        "# train_labels = train_labels.values\n",
        "test_labels = test_data.pop('Fraud')\n",
        "# test_labels = test_labels.values"
      ],
      "execution_count": 37,
      "outputs": []
    },
    {
      "cell_type": "code",
      "metadata": {
        "colab": {
          "base_uri": "https://localhost:8080/"
        },
        "id": "lWXfYQlzwaou",
        "outputId": "b73aeb8c-c6ef-4fb5-f0a7-55d16018da2c"
      },
      "source": [
        "test_labels"
      ],
      "execution_count": 38,
      "outputs": [
        {
          "output_type": "execute_result",
          "data": {
            "text/plain": [
              "217869    0\n",
              "248682    0\n",
              "261318    0\n",
              "281875    0\n",
              "239935    0\n",
              "         ..\n",
              "235817    0\n",
              "235555    0\n",
              "239666    0\n",
              "282194    0\n",
              "208373    0\n",
              "Name: Fraud, Length: 85442, dtype: int64"
            ]
          },
          "metadata": {
            "tags": []
          },
          "execution_count": 38
        }
      ]
    },
    {
      "cell_type": "code",
      "metadata": {
        "colab": {
          "base_uri": "https://localhost:8080/"
        },
        "id": "PY9UdG-rwgce",
        "outputId": "2a9057ff-cdb1-4b12-93d3-213eb4e66db6"
      },
      "source": [
        "# Building Base Model\n",
        "model = Sequential()\n",
        "model.add(Dense(10, activation = 'relu', input_shape = [len(train_data.keys())]))\n",
        "model.add(Dense(8, activation = 'relu'))\n",
        "model.add(Dense(6, activation = 'relu'))\n",
        "model.add(Dense(1, activation='sigmoid'))\n",
        "model.compile(optimizer = 'adam', loss = 'binary_crossentropy', metrics = ['accuracy'])\n",
        "model.summary()"
      ],
      "execution_count": 39,
      "outputs": [
        {
          "output_type": "stream",
          "text": [
            "Model: \"sequential\"\n",
            "_________________________________________________________________\n",
            "Layer (type)                 Output Shape              Param #   \n",
            "=================================================================\n",
            "dense (Dense)                (None, 10)                310       \n",
            "_________________________________________________________________\n",
            "dense_1 (Dense)              (None, 8)                 88        \n",
            "_________________________________________________________________\n",
            "dense_2 (Dense)              (None, 6)                 54        \n",
            "_________________________________________________________________\n",
            "dense_3 (Dense)              (None, 1)                 7         \n",
            "=================================================================\n",
            "Total params: 459\n",
            "Trainable params: 459\n",
            "Non-trainable params: 0\n",
            "_________________________________________________________________\n"
          ],
          "name": "stdout"
        }
      ]
    },
    {
      "cell_type": "code",
      "metadata": {
        "id": "Eu_4JjHhwnNL"
      },
      "source": [
        "from keras.callbacks import ModelCheckpoint, TensorBoard\n",
        "checkpointer = ModelCheckpoint(filepath = 'CreditCardFraudDetectionModel.h5', verbose = 0, save_best_only = True)\n",
        "tensorboard = TensorBoard(log_dir = './logs', histogram_freq = 0, write_graph = True, write_images = True)"
      ],
      "execution_count": 40,
      "outputs": []
    },
    {
      "cell_type": "code",
      "metadata": {
        "colab": {
          "base_uri": "https://localhost:8080/"
        },
        "id": "11VkqFDVwuA4",
        "outputId": "a512cda5-1044-44af-9030-fb37130026f5"
      },
      "source": [
        "# Fitting Base Model On 100 Epochs\n",
        "history = model.fit(train_data, train_labels, epochs = 100, batch_size = 32, shuffle=True, validation_split=0.2, verbose = 1, callbacks=[checkpointer, tensorboard]).history"
      ],
      "execution_count": 41,
      "outputs": [
        {
          "output_type": "stream",
          "text": [
            "Epoch 1/100\n",
            "4985/4985 [==============================] - 8s 1ms/step - loss: 0.0700 - accuracy: 0.9842 - val_loss: 0.0046 - val_accuracy: 0.9993\n",
            "Epoch 2/100\n",
            "4985/4985 [==============================] - 7s 1ms/step - loss: 0.0038 - accuracy: 0.9993 - val_loss: 0.0044 - val_accuracy: 0.9992\n",
            "Epoch 3/100\n",
            "4985/4985 [==============================] - 7s 1ms/step - loss: 0.0033 - accuracy: 0.9993 - val_loss: 0.0041 - val_accuracy: 0.9992\n",
            "Epoch 4/100\n",
            "4985/4985 [==============================] - 7s 1ms/step - loss: 0.0034 - accuracy: 0.9992 - val_loss: 0.0040 - val_accuracy: 0.9993\n",
            "Epoch 5/100\n",
            "4985/4985 [==============================] - 7s 1ms/step - loss: 0.0033 - accuracy: 0.9993 - val_loss: 0.0041 - val_accuracy: 0.9993\n",
            "Epoch 6/100\n",
            "4985/4985 [==============================] - 7s 1ms/step - loss: 0.0028 - accuracy: 0.9994 - val_loss: 0.0040 - val_accuracy: 0.9993\n",
            "Epoch 7/100\n",
            "4985/4985 [==============================] - 7s 1ms/step - loss: 0.0029 - accuracy: 0.9994 - val_loss: 0.0044 - val_accuracy: 0.9993\n",
            "Epoch 8/100\n",
            "4985/4985 [==============================] - 7s 1ms/step - loss: 0.0025 - accuracy: 0.9994 - val_loss: 0.0039 - val_accuracy: 0.9992\n",
            "Epoch 9/100\n",
            "4985/4985 [==============================] - 7s 1ms/step - loss: 0.0024 - accuracy: 0.9995 - val_loss: 0.0044 - val_accuracy: 0.9992\n",
            "Epoch 10/100\n",
            "4985/4985 [==============================] - 7s 1ms/step - loss: 0.0024 - accuracy: 0.9994 - val_loss: 0.0048 - val_accuracy: 0.9992\n",
            "Epoch 11/100\n",
            "4985/4985 [==============================] - 7s 1ms/step - loss: 0.0027 - accuracy: 0.9993 - val_loss: 0.0045 - val_accuracy: 0.9992\n",
            "Epoch 12/100\n",
            "4985/4985 [==============================] - 7s 1ms/step - loss: 0.0021 - accuracy: 0.9994 - val_loss: 0.0046 - val_accuracy: 0.9993\n",
            "Epoch 13/100\n",
            "4985/4985 [==============================] - 7s 1ms/step - loss: 0.0021 - accuracy: 0.9994 - val_loss: 0.0046 - val_accuracy: 0.9993\n",
            "Epoch 14/100\n",
            "4985/4985 [==============================] - 7s 1ms/step - loss: 0.0022 - accuracy: 0.9994 - val_loss: 0.0047 - val_accuracy: 0.9992\n",
            "Epoch 15/100\n",
            "4985/4985 [==============================] - 7s 1ms/step - loss: 0.0018 - accuracy: 0.9995 - val_loss: 0.0044 - val_accuracy: 0.9992\n",
            "Epoch 16/100\n",
            "4985/4985 [==============================] - 7s 1ms/step - loss: 0.0018 - accuracy: 0.9994 - val_loss: 0.0046 - val_accuracy: 0.9992\n",
            "Epoch 17/100\n",
            "4985/4985 [==============================] - 7s 1ms/step - loss: 0.0020 - accuracy: 0.9994 - val_loss: 0.0046 - val_accuracy: 0.9992\n",
            "Epoch 18/100\n",
            "4985/4985 [==============================] - 7s 1ms/step - loss: 0.0019 - accuracy: 0.9993 - val_loss: 0.0046 - val_accuracy: 0.9991\n",
            "Epoch 19/100\n",
            "4985/4985 [==============================] - 7s 1ms/step - loss: 0.0017 - accuracy: 0.9994 - val_loss: 0.0046 - val_accuracy: 0.9992\n",
            "Epoch 20/100\n",
            "4985/4985 [==============================] - 7s 1ms/step - loss: 0.0021 - accuracy: 0.9993 - val_loss: 0.0050 - val_accuracy: 0.9992\n",
            "Epoch 21/100\n",
            "4985/4985 [==============================] - 7s 1ms/step - loss: 0.0020 - accuracy: 0.9994 - val_loss: 0.0045 - val_accuracy: 0.9992\n",
            "Epoch 22/100\n",
            "4985/4985 [==============================] - 7s 1ms/step - loss: 0.0020 - accuracy: 0.9994 - val_loss: 0.0049 - val_accuracy: 0.9992\n",
            "Epoch 23/100\n",
            "4985/4985 [==============================] - 7s 1ms/step - loss: 0.0019 - accuracy: 0.9994 - val_loss: 0.0053 - val_accuracy: 0.9992\n",
            "Epoch 24/100\n",
            "4985/4985 [==============================] - 7s 1ms/step - loss: 0.0020 - accuracy: 0.9994 - val_loss: 0.0051 - val_accuracy: 0.9991\n",
            "Epoch 25/100\n",
            "4985/4985 [==============================] - 7s 1ms/step - loss: 0.0018 - accuracy: 0.9993 - val_loss: 0.0051 - val_accuracy: 0.9992\n",
            "Epoch 26/100\n",
            "4985/4985 [==============================] - 7s 1ms/step - loss: 0.0016 - accuracy: 0.9995 - val_loss: 0.0059 - val_accuracy: 0.9992\n",
            "Epoch 27/100\n",
            "4985/4985 [==============================] - 7s 1ms/step - loss: 0.0018 - accuracy: 0.9994 - val_loss: 0.0062 - val_accuracy: 0.9991\n",
            "Epoch 28/100\n",
            "4985/4985 [==============================] - 7s 1ms/step - loss: 0.0017 - accuracy: 0.9993 - val_loss: 0.0055 - val_accuracy: 0.9992\n",
            "Epoch 29/100\n",
            "4985/4985 [==============================] - 7s 1ms/step - loss: 0.0016 - accuracy: 0.9995 - val_loss: 0.0058 - val_accuracy: 0.9993\n",
            "Epoch 30/100\n",
            "4985/4985 [==============================] - 7s 1ms/step - loss: 0.0019 - accuracy: 0.9994 - val_loss: 0.0052 - val_accuracy: 0.9992\n",
            "Epoch 31/100\n",
            "4985/4985 [==============================] - 7s 1ms/step - loss: 0.0017 - accuracy: 0.9994 - val_loss: 0.0051 - val_accuracy: 0.9992\n",
            "Epoch 32/100\n",
            "4985/4985 [==============================] - 7s 1ms/step - loss: 0.0016 - accuracy: 0.9995 - val_loss: 0.0057 - val_accuracy: 0.9992\n",
            "Epoch 33/100\n",
            "4985/4985 [==============================] - 7s 1ms/step - loss: 0.0014 - accuracy: 0.9994 - val_loss: 0.0060 - val_accuracy: 0.9991\n",
            "Epoch 34/100\n",
            "4985/4985 [==============================] - 7s 1ms/step - loss: 0.0021 - accuracy: 0.9993 - val_loss: 0.0066 - val_accuracy: 0.9992\n",
            "Epoch 35/100\n",
            "4985/4985 [==============================] - 7s 1ms/step - loss: 0.0015 - accuracy: 0.9994 - val_loss: 0.0060 - val_accuracy: 0.9992\n",
            "Epoch 36/100\n",
            "4985/4985 [==============================] - 7s 1ms/step - loss: 0.0014 - accuracy: 0.9995 - val_loss: 0.0062 - val_accuracy: 0.9992\n",
            "Epoch 37/100\n",
            "4985/4985 [==============================] - 7s 1ms/step - loss: 0.0020 - accuracy: 0.9994 - val_loss: 0.0058 - val_accuracy: 0.9991\n",
            "Epoch 38/100\n",
            "4985/4985 [==============================] - 7s 1ms/step - loss: 0.0017 - accuracy: 0.9994 - val_loss: 0.0070 - val_accuracy: 0.9992\n",
            "Epoch 39/100\n",
            "4985/4985 [==============================] - 7s 1ms/step - loss: 0.0017 - accuracy: 0.9994 - val_loss: 0.0062 - val_accuracy: 0.9992\n",
            "Epoch 40/100\n",
            "4985/4985 [==============================] - 7s 1ms/step - loss: 0.0017 - accuracy: 0.9994 - val_loss: 0.0065 - val_accuracy: 0.9992\n",
            "Epoch 41/100\n",
            "4985/4985 [==============================] - 7s 1ms/step - loss: 0.0019 - accuracy: 0.9993 - val_loss: 0.0059 - val_accuracy: 0.9992\n",
            "Epoch 42/100\n",
            "4985/4985 [==============================] - 7s 1ms/step - loss: 0.0014 - accuracy: 0.9994 - val_loss: 0.0061 - val_accuracy: 0.9991\n",
            "Epoch 43/100\n",
            "4985/4985 [==============================] - 7s 1ms/step - loss: 0.0014 - accuracy: 0.9994 - val_loss: 0.0066 - val_accuracy: 0.9993\n",
            "Epoch 44/100\n",
            "4985/4985 [==============================] - 7s 1ms/step - loss: 0.0017 - accuracy: 0.9995 - val_loss: 0.0063 - val_accuracy: 0.9991\n",
            "Epoch 45/100\n",
            "4985/4985 [==============================] - 7s 1ms/step - loss: 0.0011 - accuracy: 0.9996 - val_loss: 0.0060 - val_accuracy: 0.9992\n",
            "Epoch 46/100\n",
            "4985/4985 [==============================] - 7s 1ms/step - loss: 0.0014 - accuracy: 0.9996 - val_loss: 0.0058 - val_accuracy: 0.9992\n",
            "Epoch 47/100\n",
            "4985/4985 [==============================] - 7s 1ms/step - loss: 0.0013 - accuracy: 0.9996 - val_loss: 0.0062 - val_accuracy: 0.9992\n",
            "Epoch 48/100\n",
            "4985/4985 [==============================] - 7s 1ms/step - loss: 0.0014 - accuracy: 0.9994 - val_loss: 0.0068 - val_accuracy: 0.9992\n",
            "Epoch 49/100\n",
            "4985/4985 [==============================] - 7s 1ms/step - loss: 0.0012 - accuracy: 0.9995 - val_loss: 0.0062 - val_accuracy: 0.9991\n",
            "Epoch 50/100\n",
            "4985/4985 [==============================] - 7s 1ms/step - loss: 0.0013 - accuracy: 0.9995 - val_loss: 0.0061 - val_accuracy: 0.9990\n",
            "Epoch 51/100\n",
            "4985/4985 [==============================] - 7s 1ms/step - loss: 0.0015 - accuracy: 0.9993 - val_loss: 0.0063 - val_accuracy: 0.9992\n",
            "Epoch 52/100\n",
            "4985/4985 [==============================] - 7s 1ms/step - loss: 0.0013 - accuracy: 0.9996 - val_loss: 0.0060 - val_accuracy: 0.9993\n",
            "Epoch 53/100\n",
            "4985/4985 [==============================] - 7s 1ms/step - loss: 0.0012 - accuracy: 0.9996 - val_loss: 0.0059 - val_accuracy: 0.9993\n",
            "Epoch 54/100\n",
            "4985/4985 [==============================] - 7s 1ms/step - loss: 0.0015 - accuracy: 0.9994 - val_loss: 0.0068 - val_accuracy: 0.9993\n",
            "Epoch 55/100\n",
            "4985/4985 [==============================] - 7s 1ms/step - loss: 0.0013 - accuracy: 0.9995 - val_loss: 0.0061 - val_accuracy: 0.9993\n",
            "Epoch 56/100\n",
            "4985/4985 [==============================] - 7s 1ms/step - loss: 0.0016 - accuracy: 0.9995 - val_loss: 0.0066 - val_accuracy: 0.9992\n",
            "Epoch 57/100\n",
            "4985/4985 [==============================] - 7s 1ms/step - loss: 0.0013 - accuracy: 0.9995 - val_loss: 0.0055 - val_accuracy: 0.9992\n",
            "Epoch 58/100\n",
            "4985/4985 [==============================] - 7s 1ms/step - loss: 0.0014 - accuracy: 0.9995 - val_loss: 0.0065 - val_accuracy: 0.9993\n",
            "Epoch 59/100\n",
            "4985/4985 [==============================] - 7s 1ms/step - loss: 0.0015 - accuracy: 0.9995 - val_loss: 0.0062 - val_accuracy: 0.9992\n",
            "Epoch 60/100\n",
            "4985/4985 [==============================] - 7s 1ms/step - loss: 0.0012 - accuracy: 0.9995 - val_loss: 0.0063 - val_accuracy: 0.9990\n",
            "Epoch 61/100\n",
            "4985/4985 [==============================] - 7s 1ms/step - loss: 0.0015 - accuracy: 0.9995 - val_loss: 0.0080 - val_accuracy: 0.9992\n",
            "Epoch 62/100\n",
            "4985/4985 [==============================] - 7s 1ms/step - loss: 0.0015 - accuracy: 0.9994 - val_loss: 0.0070 - val_accuracy: 0.9992\n",
            "Epoch 63/100\n",
            "4985/4985 [==============================] - 7s 1ms/step - loss: 0.0014 - accuracy: 0.9994 - val_loss: 0.0065 - val_accuracy: 0.9992\n",
            "Epoch 64/100\n",
            "4985/4985 [==============================] - 7s 1ms/step - loss: 0.0011 - accuracy: 0.9996 - val_loss: 0.0071 - val_accuracy: 0.9992\n",
            "Epoch 65/100\n",
            "4985/4985 [==============================] - 7s 1ms/step - loss: 0.0014 - accuracy: 0.9995 - val_loss: 0.0065 - val_accuracy: 0.9990\n",
            "Epoch 66/100\n",
            "4985/4985 [==============================] - 7s 1ms/step - loss: 0.0014 - accuracy: 0.9994 - val_loss: 0.0067 - val_accuracy: 0.9991\n",
            "Epoch 67/100\n",
            "4985/4985 [==============================] - 7s 1ms/step - loss: 0.0011 - accuracy: 0.9996 - val_loss: 0.0058 - val_accuracy: 0.9992\n",
            "Epoch 68/100\n",
            "4985/4985 [==============================] - 7s 1ms/step - loss: 0.0012 - accuracy: 0.9996 - val_loss: 0.0066 - val_accuracy: 0.9992\n",
            "Epoch 69/100\n",
            "4985/4985 [==============================] - 7s 1ms/step - loss: 0.0011 - accuracy: 0.9996 - val_loss: 0.0076 - val_accuracy: 0.9993\n",
            "Epoch 70/100\n",
            "4985/4985 [==============================] - 7s 1ms/step - loss: 0.0012 - accuracy: 0.9996 - val_loss: 0.0072 - val_accuracy: 0.9992\n",
            "Epoch 71/100\n",
            "4985/4985 [==============================] - 7s 1ms/step - loss: 0.0012 - accuracy: 0.9996 - val_loss: 0.0078 - val_accuracy: 0.9992\n",
            "Epoch 72/100\n",
            "4985/4985 [==============================] - 7s 1ms/step - loss: 0.0012 - accuracy: 0.9995 - val_loss: 0.0075 - val_accuracy: 0.9993\n",
            "Epoch 73/100\n",
            "4985/4985 [==============================] - 7s 1ms/step - loss: 0.0013 - accuracy: 0.9996 - val_loss: 0.0073 - val_accuracy: 0.9993\n",
            "Epoch 74/100\n",
            "4985/4985 [==============================] - 7s 1ms/step - loss: 0.0015 - accuracy: 0.9995 - val_loss: 0.0072 - val_accuracy: 0.9992\n",
            "Epoch 75/100\n",
            "4985/4985 [==============================] - 7s 1ms/step - loss: 0.0017 - accuracy: 0.9995 - val_loss: 0.0067 - val_accuracy: 0.9991\n",
            "Epoch 76/100\n",
            "4985/4985 [==============================] - 7s 1ms/step - loss: 0.0011 - accuracy: 0.9995 - val_loss: 0.0069 - val_accuracy: 0.9992\n",
            "Epoch 77/100\n",
            "4985/4985 [==============================] - 7s 1ms/step - loss: 0.0012 - accuracy: 0.9994 - val_loss: 0.0075 - val_accuracy: 0.9992\n",
            "Epoch 78/100\n",
            "4985/4985 [==============================] - 7s 1ms/step - loss: 0.0014 - accuracy: 0.9995 - val_loss: 0.0072 - val_accuracy: 0.9992\n",
            "Epoch 79/100\n",
            "4985/4985 [==============================] - 7s 1ms/step - loss: 0.0011 - accuracy: 0.9995 - val_loss: 0.0064 - val_accuracy: 0.9993\n",
            "Epoch 80/100\n",
            "4985/4985 [==============================] - 7s 1ms/step - loss: 9.5582e-04 - accuracy: 0.9996 - val_loss: 0.0062 - val_accuracy: 0.9993\n",
            "Epoch 81/100\n",
            "4985/4985 [==============================] - 7s 1ms/step - loss: 0.0013 - accuracy: 0.9996 - val_loss: 0.0079 - val_accuracy: 0.9993\n",
            "Epoch 82/100\n",
            "4985/4985 [==============================] - 7s 1ms/step - loss: 0.0012 - accuracy: 0.9995 - val_loss: 0.0070 - val_accuracy: 0.9992\n",
            "Epoch 83/100\n",
            "4985/4985 [==============================] - 7s 1ms/step - loss: 9.6025e-04 - accuracy: 0.9996 - val_loss: 0.0075 - val_accuracy: 0.9991\n",
            "Epoch 84/100\n",
            "4985/4985 [==============================] - 7s 1ms/step - loss: 0.0012 - accuracy: 0.9995 - val_loss: 0.0079 - val_accuracy: 0.9992\n",
            "Epoch 85/100\n",
            "4985/4985 [==============================] - 7s 1ms/step - loss: 0.0016 - accuracy: 0.9995 - val_loss: 0.0082 - val_accuracy: 0.9992\n",
            "Epoch 86/100\n",
            "4985/4985 [==============================] - 7s 1ms/step - loss: 0.0011 - accuracy: 0.9996 - val_loss: 0.0069 - val_accuracy: 0.9991\n",
            "Epoch 87/100\n",
            "4985/4985 [==============================] - 7s 1ms/step - loss: 0.0012 - accuracy: 0.9995 - val_loss: 0.0073 - val_accuracy: 0.9993\n",
            "Epoch 88/100\n",
            "4985/4985 [==============================] - 7s 1ms/step - loss: 0.0012 - accuracy: 0.9995 - val_loss: 0.0074 - val_accuracy: 0.9993\n",
            "Epoch 89/100\n",
            "4985/4985 [==============================] - 7s 1ms/step - loss: 9.9624e-04 - accuracy: 0.9996 - val_loss: 0.0076 - val_accuracy: 0.9993\n",
            "Epoch 90/100\n",
            "4985/4985 [==============================] - 7s 1ms/step - loss: 0.0013 - accuracy: 0.9995 - val_loss: 0.0076 - val_accuracy: 0.9993\n",
            "Epoch 91/100\n",
            "4985/4985 [==============================] - 7s 1ms/step - loss: 0.0011 - accuracy: 0.9996 - val_loss: 0.0068 - val_accuracy: 0.9992\n",
            "Epoch 92/100\n",
            "4985/4985 [==============================] - 7s 1ms/step - loss: 0.0011 - accuracy: 0.9997 - val_loss: 0.0076 - val_accuracy: 0.9992\n",
            "Epoch 93/100\n",
            "4985/4985 [==============================] - 7s 1ms/step - loss: 9.4715e-04 - accuracy: 0.9996 - val_loss: 0.0071 - val_accuracy: 0.9992\n",
            "Epoch 94/100\n",
            "4985/4985 [==============================] - 7s 1ms/step - loss: 0.0012 - accuracy: 0.9995 - val_loss: 0.0079 - val_accuracy: 0.9990\n",
            "Epoch 95/100\n",
            "4985/4985 [==============================] - 7s 1ms/step - loss: 0.0010 - accuracy: 0.9996 - val_loss: 0.0078 - val_accuracy: 0.9993\n",
            "Epoch 96/100\n",
            "4985/4985 [==============================] - 7s 1ms/step - loss: 0.0014 - accuracy: 0.9995 - val_loss: 0.0074 - val_accuracy: 0.9992\n",
            "Epoch 97/100\n",
            "4985/4985 [==============================] - 7s 1ms/step - loss: 9.3592e-04 - accuracy: 0.9996 - val_loss: 0.0074 - val_accuracy: 0.9993\n",
            "Epoch 98/100\n",
            "4985/4985 [==============================] - 7s 1ms/step - loss: 9.9368e-04 - accuracy: 0.9995 - val_loss: 0.0077 - val_accuracy: 0.9991\n",
            "Epoch 99/100\n",
            "4985/4985 [==============================] - 7s 1ms/step - loss: 0.0010 - accuracy: 0.9996 - val_loss: 0.0077 - val_accuracy: 0.9992\n",
            "Epoch 100/100\n",
            "4985/4985 [==============================] - 7s 1ms/step - loss: 0.0011 - accuracy: 0.9996 - val_loss: 0.0084 - val_accuracy: 0.9989\n"
          ],
          "name": "stdout"
        }
      ]
    },
    {
      "cell_type": "code",
      "metadata": {
        "colab": {
          "base_uri": "https://localhost:8080/",
          "height": 195
        },
        "id": "M-0vm0JvyaUx",
        "outputId": "54bfda3f-f5e3-4a3f-8040-da7c5cf819e0"
      },
      "source": [
        "# Storing History In A Data Frame\n",
        "history_df = pd.DataFrame(history)\n",
        "history_df.tail()"
      ],
      "execution_count": 42,
      "outputs": [
        {
          "output_type": "execute_result",
          "data": {
            "text/html": [
              "<div>\n",
              "<style scoped>\n",
              "    .dataframe tbody tr th:only-of-type {\n",
              "        vertical-align: middle;\n",
              "    }\n",
              "\n",
              "    .dataframe tbody tr th {\n",
              "        vertical-align: top;\n",
              "    }\n",
              "\n",
              "    .dataframe thead th {\n",
              "        text-align: right;\n",
              "    }\n",
              "</style>\n",
              "<table border=\"1\" class=\"dataframe\">\n",
              "  <thead>\n",
              "    <tr style=\"text-align: right;\">\n",
              "      <th></th>\n",
              "      <th>loss</th>\n",
              "      <th>accuracy</th>\n",
              "      <th>val_loss</th>\n",
              "      <th>val_accuracy</th>\n",
              "    </tr>\n",
              "  </thead>\n",
              "  <tbody>\n",
              "    <tr>\n",
              "      <th>95</th>\n",
              "      <td>0.001224</td>\n",
              "      <td>0.999530</td>\n",
              "      <td>0.007436</td>\n",
              "      <td>0.999197</td>\n",
              "    </tr>\n",
              "    <tr>\n",
              "      <th>96</th>\n",
              "      <td>0.001122</td>\n",
              "      <td>0.999549</td>\n",
              "      <td>0.007387</td>\n",
              "      <td>0.999273</td>\n",
              "    </tr>\n",
              "    <tr>\n",
              "      <th>97</th>\n",
              "      <td>0.001072</td>\n",
              "      <td>0.999567</td>\n",
              "      <td>0.007663</td>\n",
              "      <td>0.999122</td>\n",
              "    </tr>\n",
              "    <tr>\n",
              "      <th>98</th>\n",
              "      <td>0.001140</td>\n",
              "      <td>0.999523</td>\n",
              "      <td>0.007737</td>\n",
              "      <td>0.999248</td>\n",
              "    </tr>\n",
              "    <tr>\n",
              "      <th>99</th>\n",
              "      <td>0.001222</td>\n",
              "      <td>0.999542</td>\n",
              "      <td>0.008412</td>\n",
              "      <td>0.998871</td>\n",
              "    </tr>\n",
              "  </tbody>\n",
              "</table>\n",
              "</div>"
            ],
            "text/plain": [
              "        loss  accuracy  val_loss  val_accuracy\n",
              "95  0.001224  0.999530  0.007436      0.999197\n",
              "96  0.001122  0.999549  0.007387      0.999273\n",
              "97  0.001072  0.999567  0.007663      0.999122\n",
              "98  0.001140  0.999523  0.007737      0.999248\n",
              "99  0.001222  0.999542  0.008412      0.998871"
            ]
          },
          "metadata": {
            "tags": []
          },
          "execution_count": 42
        }
      ]
    },
    {
      "cell_type": "code",
      "metadata": {
        "colab": {
          "base_uri": "https://localhost:8080/",
          "height": 535
        },
        "id": "H8UDeMaxy8bs",
        "outputId": "39691df1-e8c8-4121-e75f-d912d30b3ff1"
      },
      "source": [
        "# Plotting Loss and Accuracy\n",
        "plt.plot(history_df['loss'])\n",
        "plt.plot(history_df['accuracy'])\n",
        "plt.plot(history_df['val_loss'])\n",
        "plt.plot(history_df['val_accuracy'])\n",
        "plt.title('Model Loss')\n",
        "plt.ylabel('Loss')\n",
        "plt.xlabel('Epoch')\n",
        "plt.legend(['Training Loss', 'Training Accuracy', 'Validation Loss', 'Validation Accuracy'], loc='upper right');"
      ],
      "execution_count": 43,
      "outputs": [
        {
          "output_type": "display_data",
          "data": {
            "image/png": "[encoded data removed]",
            "text/plain": [
              "<Figure size 1008x576 with 1 Axes>"
            ]
          },
          "metadata": {
            "tags": []
          }
        }
      ]
    },
    {
      "cell_type": "code",
      "metadata": {
        "id": "vJ6rm2Vry9ZH"
      },
      "source": [
        "# Making Predictions On Test Data\n",
        "predictions = model.predict(test_data)\n",
        "predictions = predictions.flatten()"
      ],
      "execution_count": 44,
      "outputs": []
    },
    {
      "cell_type": "code",
      "metadata": {
        "colab": {
          "base_uri": "https://localhost:8080/"
        },
        "id": "Emnob5nazDD9",
        "outputId": "56c8ecb4-2edb-4986-8459-781621a5f0e5"
      },
      "source": [
        "predictions"
      ],
      "execution_count": 45,
      "outputs": [
        {
          "output_type": "execute_result",
          "data": {
            "text/plain": [
              "array([2.4498124e-15, 2.3406982e-10, 3.6730620e-07, ..., 6.1521357e-11,\n",
              "       3.3280867e-09, 9.0354346e-09], dtype=float32)"
            ]
          },
          "metadata": {
            "tags": []
          },
          "execution_count": 45
        }
      ]
    },
    {
      "cell_type": "code",
      "metadata": {
        "colab": {
          "base_uri": "https://localhost:8080/"
        },
        "id": "miWHzlxAzHWz",
        "outputId": "3372cb72-ac9d-4e84-a343-31a3b6097e02"
      },
      "source": [
        "# Testing Model On Testing Data\n",
        "testing = model.evaluate(test_data, test_labels)"
      ],
      "execution_count": 46,
      "outputs": [
        {
          "output_type": "stream",
          "text": [
            "2671/2671 [==============================] - 2s 851us/step - loss: 0.0112 - accuracy: 0.9986\n"
          ],
          "name": "stdout"
        }
      ]
    },
    {
      "cell_type": "code",
      "metadata": {
        "colab": {
          "base_uri": "https://localhost:8080/"
        },
        "id": "RgzKzfzazLYc",
        "outputId": "7d2af094-56b6-4e2a-b6dc-dce8bf4d3cc3"
      },
      "source": [
        "print(f\"Test Loss: {testing[0]}\")\n",
        "print(f\"Test Accuracy: {testing[1]}\")"
      ],
      "execution_count": 47,
      "outputs": [
        {
          "output_type": "stream",
          "text": [
            "Test Loss: 0.011179838329553604\n",
            "Test Accuracy: 0.9986423254013062\n"
          ],
          "name": "stdout"
        }
      ]
    },
    {
      "cell_type": "code",
      "metadata": {
        "colab": {
          "base_uri": "https://localhost:8080/",
          "height": 513
        },
        "id": "P_aA9fF4zQJi",
        "outputId": "6d290954-1238-4d55-fcbe-95e588519c5f"
      },
      "source": [
        "# Plotting Confusion Matrix\n",
        "from sklearn.metrics import confusion_matrix, classification_report\n",
        "# y_pred = model.predict(X_test)\n",
        "y_test = pd.DataFrame(testing)\n",
        "cm = confusion_matrix(test_labels, predictions.round())\n",
        "sns.heatmap(cm, annot=True, fmt='.0f', cmap='cividis_r')\n",
        "plt.title(\"Confusion Matrix\")\n",
        "plt.show()"
      ],
      "execution_count": 48,
      "outputs": [
        {
          "output_type": "display_data",
          "data": {
            "image/png": "[encoded data removed]",
            "text/plain": [
              "<Figure size 1008x576 with 2 Axes>"
            ]
          },
          "metadata": {
            "tags": []
          }
        }
      ]
    },
    {
      "cell_type": "markdown",
      "metadata": {
        "id": "v30czZBE03E2"
      },
      "source": [
        "#Unbalanced Data\n"
      ]
    },
    {
      "cell_type": "markdown",
      "metadata": {
        "id": "wskJX9u006XB"
      },
      "source": [
        "### As we can see that our model is overfitted because it is most probably unable to discriminate between valid transactions and fraud transactions because the mass of fraud transactions is very low as compared to the valid transactions and our model can treat them as normal transactions. Lets overcome this problem."
      ]
    },
    {
      "cell_type": "markdown",
      "metadata": {
        "id": "E5BL1tEq0_kl"
      },
      "source": [
        "# Building Second Model For Overcoming Unbalanced Data Problem"
      ]
    },
    {
      "cell_type": "markdown",
      "metadata": {
        "id": "RabX6ggv1EQA"
      },
      "source": [
        "### There are many techniques to solve this problem but here I am using SMOTE Algorithm. SMOTE (synthetic minority oversampling technique) is one of the most commonly used oversampling methods to solve the imbalance problem. It aims to balance class distribution by randomly increasing minority class examples by replicating them. SMOTE synthesises new minority instances between existing minority instances."
      ]
    },
    {
      "cell_type": "code",
      "metadata": {
        "colab": {
          "base_uri": "https://localhost:8080/",
          "height": 215
        },
        "id": "WGYs9OihzT2b",
        "outputId": "49656597-1acf-4fb8-fa48-0f933712c216"
      },
      "source": [
        "# Checking Dataset To Ensure That It IS Not Changed\n",
        "df.head()"
      ],
      "execution_count": 49,
      "outputs": [
        {
          "output_type": "execute_result",
          "data": {
            "text/html": [
              "<div>\n",
              "<style scoped>\n",
              "    .dataframe tbody tr th:only-of-type {\n",
              "        vertical-align: middle;\n",
              "    }\n",
              "\n",
              "    .dataframe tbody tr th {\n",
              "        vertical-align: top;\n",
              "    }\n",
              "\n",
              "    .dataframe thead th {\n",
              "        text-align: right;\n",
              "    }\n",
              "</style>\n",
              "<table border=\"1\" class=\"dataframe\">\n",
              "  <thead>\n",
              "    <tr style=\"text-align: right;\">\n",
              "      <th></th>\n",
              "      <th>Time</th>\n",
              "      <th>V1</th>\n",
              "      <th>V2</th>\n",
              "      <th>V3</th>\n",
              "      <th>V4</th>\n",
              "      <th>V5</th>\n",
              "      <th>V6</th>\n",
              "      <th>V7</th>\n",
              "      <th>V8</th>\n",
              "      <th>V9</th>\n",
              "      <th>V10</th>\n",
              "      <th>V11</th>\n",
              "      <th>V12</th>\n",
              "      <th>V13</th>\n",
              "      <th>V14</th>\n",
              "      <th>V15</th>\n",
              "      <th>V16</th>\n",
              "      <th>V17</th>\n",
              "      <th>V18</th>\n",
              "      <th>V19</th>\n",
              "      <th>V20</th>\n",
              "      <th>V21</th>\n",
              "      <th>V22</th>\n",
              "      <th>V23</th>\n",
              "      <th>V24</th>\n",
              "      <th>V25</th>\n",
              "      <th>V26</th>\n",
              "      <th>V27</th>\n",
              "      <th>V28</th>\n",
              "      <th>Amount</th>\n",
              "      <th>Fraud</th>\n",
              "    </tr>\n",
              "  </thead>\n",
              "  <tbody>\n",
              "    <tr>\n",
              "      <th>0</th>\n",
              "      <td>-1.996583</td>\n",
              "      <td>-1.359807</td>\n",
              "      <td>-0.072781</td>\n",
              "      <td>2.536347</td>\n",
              "      <td>1.378155</td>\n",
              "      <td>-0.338321</td>\n",
              "      <td>0.462388</td>\n",
              "      <td>0.239599</td>\n",
              "      <td>0.098698</td>\n",
              "      <td>0.363787</td>\n",
              "      <td>0.090794</td>\n",
              "      <td>-0.551600</td>\n",
              "      <td>-0.617801</td>\n",
              "      <td>-0.991390</td>\n",
              "      <td>-0.311169</td>\n",
              "      <td>1.468177</td>\n",
              "      <td>-0.470401</td>\n",
              "      <td>0.207971</td>\n",
              "      <td>0.025791</td>\n",
              "      <td>0.403993</td>\n",
              "      <td>0.251412</td>\n",
              "      <td>-0.018307</td>\n",
              "      <td>0.277838</td>\n",
              "      <td>-0.110474</td>\n",
              "      <td>0.066928</td>\n",
              "      <td>0.128539</td>\n",
              "      <td>-0.189115</td>\n",
              "      <td>0.133558</td>\n",
              "      <td>-0.021053</td>\n",
              "      <td>0.244964</td>\n",
              "      <td>0</td>\n",
              "    </tr>\n",
              "    <tr>\n",
              "      <th>1</th>\n",
              "      <td>-1.996583</td>\n",
              "      <td>1.191857</td>\n",
              "      <td>0.266151</td>\n",
              "      <td>0.166480</td>\n",
              "      <td>0.448154</td>\n",
              "      <td>0.060018</td>\n",
              "      <td>-0.082361</td>\n",
              "      <td>-0.078803</td>\n",
              "      <td>0.085102</td>\n",
              "      <td>-0.255425</td>\n",
              "      <td>-0.166974</td>\n",
              "      <td>1.612727</td>\n",
              "      <td>1.065235</td>\n",
              "      <td>0.489095</td>\n",
              "      <td>-0.143772</td>\n",
              "      <td>0.635558</td>\n",
              "      <td>0.463917</td>\n",
              "      <td>-0.114805</td>\n",
              "      <td>-0.183361</td>\n",
              "      <td>-0.145783</td>\n",
              "      <td>-0.069083</td>\n",
              "      <td>-0.225775</td>\n",
              "      <td>-0.638672</td>\n",
              "      <td>0.101288</td>\n",
              "      <td>-0.339846</td>\n",
              "      <td>0.167170</td>\n",
              "      <td>0.125895</td>\n",
              "      <td>-0.008983</td>\n",
              "      <td>0.014724</td>\n",
              "      <td>-0.342475</td>\n",
              "      <td>0</td>\n",
              "    </tr>\n",
              "    <tr>\n",
              "      <th>2</th>\n",
              "      <td>-1.996562</td>\n",
              "      <td>-1.358354</td>\n",
              "      <td>-1.340163</td>\n",
              "      <td>1.773209</td>\n",
              "      <td>0.379780</td>\n",
              "      <td>-0.503198</td>\n",
              "      <td>1.800499</td>\n",
              "      <td>0.791461</td>\n",
              "      <td>0.247676</td>\n",
              "      <td>-1.514654</td>\n",
              "      <td>0.207643</td>\n",
              "      <td>0.624501</td>\n",
              "      <td>0.066084</td>\n",
              "      <td>0.717293</td>\n",
              "      <td>-0.165946</td>\n",
              "      <td>2.345865</td>\n",
              "      <td>-2.890083</td>\n",
              "      <td>1.109969</td>\n",
              "      <td>-0.121359</td>\n",
              "      <td>-2.261857</td>\n",
              "      <td>0.524980</td>\n",
              "      <td>0.247998</td>\n",
              "      <td>0.771679</td>\n",
              "      <td>0.909412</td>\n",
              "      <td>-0.689281</td>\n",
              "      <td>-0.327642</td>\n",
              "      <td>-0.139097</td>\n",
              "      <td>-0.055353</td>\n",
              "      <td>-0.059752</td>\n",
              "      <td>1.160686</td>\n",
              "      <td>0</td>\n",
              "    </tr>\n",
              "    <tr>\n",
              "      <th>3</th>\n",
              "      <td>-1.996562</td>\n",
              "      <td>-0.966272</td>\n",
              "      <td>-0.185226</td>\n",
              "      <td>1.792993</td>\n",
              "      <td>-0.863291</td>\n",
              "      <td>-0.010309</td>\n",
              "      <td>1.247203</td>\n",
              "      <td>0.237609</td>\n",
              "      <td>0.377436</td>\n",
              "      <td>-1.387024</td>\n",
              "      <td>-0.054952</td>\n",
              "      <td>-0.226487</td>\n",
              "      <td>0.178228</td>\n",
              "      <td>0.507757</td>\n",
              "      <td>-0.287924</td>\n",
              "      <td>-0.631418</td>\n",
              "      <td>-1.059647</td>\n",
              "      <td>-0.684093</td>\n",
              "      <td>1.965775</td>\n",
              "      <td>-1.232622</td>\n",
              "      <td>-0.208038</td>\n",
              "      <td>-0.108300</td>\n",
              "      <td>0.005274</td>\n",
              "      <td>-0.190321</td>\n",
              "      <td>-1.175575</td>\n",
              "      <td>0.647376</td>\n",
              "      <td>-0.221929</td>\n",
              "      <td>0.062723</td>\n",
              "      <td>0.061458</td>\n",
              "      <td>0.140534</td>\n",
              "      <td>0</td>\n",
              "    </tr>\n",
              "    <tr>\n",
              "      <th>4</th>\n",
              "      <td>-1.996541</td>\n",
              "      <td>-1.158233</td>\n",
              "      <td>0.877737</td>\n",
              "      <td>1.548718</td>\n",
              "      <td>0.403034</td>\n",
              "      <td>-0.407193</td>\n",
              "      <td>0.095921</td>\n",
              "      <td>0.592941</td>\n",
              "      <td>-0.270533</td>\n",
              "      <td>0.817739</td>\n",
              "      <td>0.753074</td>\n",
              "      <td>-0.822843</td>\n",
              "      <td>0.538196</td>\n",
              "      <td>1.345852</td>\n",
              "      <td>-1.119670</td>\n",
              "      <td>0.175121</td>\n",
              "      <td>-0.451449</td>\n",
              "      <td>-0.237033</td>\n",
              "      <td>-0.038195</td>\n",
              "      <td>0.803487</td>\n",
              "      <td>0.408542</td>\n",
              "      <td>-0.009431</td>\n",
              "      <td>0.798278</td>\n",
              "      <td>-0.137458</td>\n",
              "      <td>0.141267</td>\n",
              "      <td>-0.206010</td>\n",
              "      <td>0.502292</td>\n",
              "      <td>0.219422</td>\n",
              "      <td>0.215153</td>\n",
              "      <td>-0.073403</td>\n",
              "      <td>0</td>\n",
              "    </tr>\n",
              "  </tbody>\n",
              "</table>\n",
              "</div>"
            ],
            "text/plain": [
              "       Time        V1        V2        V3  ...       V27       V28    Amount  Fraud\n",
              "0 -1.996583 -1.359807 -0.072781  2.536347  ...  0.133558 -0.021053  0.244964      0\n",
              "1 -1.996583  1.191857  0.266151  0.166480  ... -0.008983  0.014724 -0.342475      0\n",
              "2 -1.996562 -1.358354 -1.340163  1.773209  ... -0.055353 -0.059752  1.160686      0\n",
              "3 -1.996562 -0.966272 -0.185226  1.792993  ...  0.062723  0.061458  0.140534      0\n",
              "4 -1.996541 -1.158233  0.877737  1.548718  ...  0.219422  0.215153 -0.073403      0\n",
              "\n",
              "[5 rows x 31 columns]"
            ]
          },
          "metadata": {
            "tags": []
          },
          "execution_count": 49
        }
      ]
    },
    {
      "cell_type": "code",
      "metadata": {
        "id": "uCBlZTJU1cB2"
      },
      "source": [
        "# Standardizing The Amount Feature\n",
        "df['NormAmount'] = StandardScaler().fit_transform(df['Amount'].values.reshape(-1, 1))\n",
        "df = df.drop(['Time','Amount'],axis=1)"
      ],
      "execution_count": 50,
      "outputs": []
    },
    {
      "cell_type": "code",
      "metadata": {
        "id": "6U1MeOU81eab"
      },
      "source": [
        "# Separating Test Data\n",
        "X = df.iloc[:, df.columns != 'Class']\n",
        "y = df.iloc[:, df.columns == 'Class']"
      ],
      "execution_count": 51,
      "outputs": []
    },
    {
      "cell_type": "code",
      "metadata": {
        "colab": {
          "base_uri": "https://localhost:8080/"
        },
        "id": "zLUF7zMh2Ywz",
        "outputId": "5f0f7b5c-ee9b-4758-f874-d34d2cd82024"
      },
      "source": [
        "# Importing SMOTE \n",
        "from imblearn.over_sampling import SMOTE\n",
        "np.random.seed(9)"
      ],
      "execution_count": 52,
      "outputs": [
        {
          "output_type": "stream",
          "text": [
            "/usr/local/lib/python3.7/dist-packages/sklearn/externals/six.py:31: FutureWarning: The module is deprecated in version 0.21 and will be removed in version 0.23 since we've dropped support for Python 2.7. Please rely on the official version of six (https://pypi.org/project/six/).\n",
            "  \"(https://pypi.org/project/six/).\", FutureWarning)\n",
            "/usr/local/lib/python3.7/dist-packages/sklearn/utils/deprecation.py:144: FutureWarning: The sklearn.neighbors.base module is  deprecated in version 0.22 and will be removed in version 0.24. The corresponding classes / functions should instead be imported from sklearn.neighbors. Anything that cannot be imported from sklearn.neighbors is now part of the private API.\n",
            "  warnings.warn(message, FutureWarning)\n"
          ],
          "name": "stderr"
        }
      ]
    }
  ]
}